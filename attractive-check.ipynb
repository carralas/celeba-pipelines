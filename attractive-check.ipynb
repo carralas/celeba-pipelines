{
 "cells": [
  {
   "cell_type": "code",
   "execution_count": 1,
   "metadata": {},
   "outputs": [],
   "source": [
    "import pandas as pd\n",
    "import numpy as np"
   ]
  },
  {
   "cell_type": "code",
   "execution_count": 2,
   "metadata": {},
   "outputs": [],
   "source": [
    "import matplotlib.pyplot as plt\n",
    "import seaborn as sns"
   ]
  },
  {
   "cell_type": "code",
   "execution_count": 3,
   "metadata": {},
   "outputs": [],
   "source": [
    "celeba = pd.read_csv('celeba-dataset/list_attr_celeba.csv')"
   ]
  },
  {
   "cell_type": "code",
   "execution_count": 4,
   "metadata": {},
   "outputs": [],
   "source": [
    "#alterando o índice\n",
    "celeba['image_id'] = celeba['image_id'].apply(lambda x: x.replace('.jpg', ''))\n",
    "celeba.set_index('image_id', inplace=True)"
   ]
  },
  {
   "cell_type": "code",
   "execution_count": 5,
   "metadata": {},
   "outputs": [
    {
     "data": {
      "text/html": [
       "<div>\n",
       "<style scoped>\n",
       "    .dataframe tbody tr th:only-of-type {\n",
       "        vertical-align: middle;\n",
       "    }\n",
       "\n",
       "    .dataframe tbody tr th {\n",
       "        vertical-align: top;\n",
       "    }\n",
       "\n",
       "    .dataframe thead th {\n",
       "        text-align: right;\n",
       "    }\n",
       "</style>\n",
       "<table border=\"1\" class=\"dataframe\">\n",
       "  <thead>\n",
       "    <tr style=\"text-align: right;\">\n",
       "      <th></th>\n",
       "      <th>5_o_Clock_Shadow</th>\n",
       "      <th>Arched_Eyebrows</th>\n",
       "      <th>Attractive</th>\n",
       "      <th>Bags_Under_Eyes</th>\n",
       "      <th>Bald</th>\n",
       "      <th>Bangs</th>\n",
       "      <th>Big_Lips</th>\n",
       "      <th>Big_Nose</th>\n",
       "      <th>Black_Hair</th>\n",
       "      <th>Blond_Hair</th>\n",
       "      <th>...</th>\n",
       "      <th>Sideburns</th>\n",
       "      <th>Smiling</th>\n",
       "      <th>Straight_Hair</th>\n",
       "      <th>Wavy_Hair</th>\n",
       "      <th>Wearing_Earrings</th>\n",
       "      <th>Wearing_Hat</th>\n",
       "      <th>Wearing_Lipstick</th>\n",
       "      <th>Wearing_Necklace</th>\n",
       "      <th>Wearing_Necktie</th>\n",
       "      <th>Young</th>\n",
       "    </tr>\n",
       "    <tr>\n",
       "      <th>image_id</th>\n",
       "      <th></th>\n",
       "      <th></th>\n",
       "      <th></th>\n",
       "      <th></th>\n",
       "      <th></th>\n",
       "      <th></th>\n",
       "      <th></th>\n",
       "      <th></th>\n",
       "      <th></th>\n",
       "      <th></th>\n",
       "      <th></th>\n",
       "      <th></th>\n",
       "      <th></th>\n",
       "      <th></th>\n",
       "      <th></th>\n",
       "      <th></th>\n",
       "      <th></th>\n",
       "      <th></th>\n",
       "      <th></th>\n",
       "      <th></th>\n",
       "      <th></th>\n",
       "    </tr>\n",
       "  </thead>\n",
       "  <tbody>\n",
       "    <tr>\n",
       "      <td>000001</td>\n",
       "      <td>-1</td>\n",
       "      <td>1</td>\n",
       "      <td>1</td>\n",
       "      <td>-1</td>\n",
       "      <td>-1</td>\n",
       "      <td>-1</td>\n",
       "      <td>-1</td>\n",
       "      <td>-1</td>\n",
       "      <td>-1</td>\n",
       "      <td>-1</td>\n",
       "      <td>...</td>\n",
       "      <td>-1</td>\n",
       "      <td>1</td>\n",
       "      <td>1</td>\n",
       "      <td>-1</td>\n",
       "      <td>1</td>\n",
       "      <td>-1</td>\n",
       "      <td>1</td>\n",
       "      <td>-1</td>\n",
       "      <td>-1</td>\n",
       "      <td>1</td>\n",
       "    </tr>\n",
       "    <tr>\n",
       "      <td>000002</td>\n",
       "      <td>-1</td>\n",
       "      <td>-1</td>\n",
       "      <td>-1</td>\n",
       "      <td>1</td>\n",
       "      <td>-1</td>\n",
       "      <td>-1</td>\n",
       "      <td>-1</td>\n",
       "      <td>1</td>\n",
       "      <td>-1</td>\n",
       "      <td>-1</td>\n",
       "      <td>...</td>\n",
       "      <td>-1</td>\n",
       "      <td>1</td>\n",
       "      <td>-1</td>\n",
       "      <td>-1</td>\n",
       "      <td>-1</td>\n",
       "      <td>-1</td>\n",
       "      <td>-1</td>\n",
       "      <td>-1</td>\n",
       "      <td>-1</td>\n",
       "      <td>1</td>\n",
       "    </tr>\n",
       "    <tr>\n",
       "      <td>000003</td>\n",
       "      <td>-1</td>\n",
       "      <td>-1</td>\n",
       "      <td>-1</td>\n",
       "      <td>-1</td>\n",
       "      <td>-1</td>\n",
       "      <td>-1</td>\n",
       "      <td>1</td>\n",
       "      <td>-1</td>\n",
       "      <td>-1</td>\n",
       "      <td>-1</td>\n",
       "      <td>...</td>\n",
       "      <td>-1</td>\n",
       "      <td>-1</td>\n",
       "      <td>-1</td>\n",
       "      <td>1</td>\n",
       "      <td>-1</td>\n",
       "      <td>-1</td>\n",
       "      <td>-1</td>\n",
       "      <td>-1</td>\n",
       "      <td>-1</td>\n",
       "      <td>1</td>\n",
       "    </tr>\n",
       "    <tr>\n",
       "      <td>000004</td>\n",
       "      <td>-1</td>\n",
       "      <td>-1</td>\n",
       "      <td>1</td>\n",
       "      <td>-1</td>\n",
       "      <td>-1</td>\n",
       "      <td>-1</td>\n",
       "      <td>-1</td>\n",
       "      <td>-1</td>\n",
       "      <td>-1</td>\n",
       "      <td>-1</td>\n",
       "      <td>...</td>\n",
       "      <td>-1</td>\n",
       "      <td>-1</td>\n",
       "      <td>1</td>\n",
       "      <td>-1</td>\n",
       "      <td>1</td>\n",
       "      <td>-1</td>\n",
       "      <td>1</td>\n",
       "      <td>1</td>\n",
       "      <td>-1</td>\n",
       "      <td>1</td>\n",
       "    </tr>\n",
       "    <tr>\n",
       "      <td>000005</td>\n",
       "      <td>-1</td>\n",
       "      <td>1</td>\n",
       "      <td>1</td>\n",
       "      <td>-1</td>\n",
       "      <td>-1</td>\n",
       "      <td>-1</td>\n",
       "      <td>1</td>\n",
       "      <td>-1</td>\n",
       "      <td>-1</td>\n",
       "      <td>-1</td>\n",
       "      <td>...</td>\n",
       "      <td>-1</td>\n",
       "      <td>-1</td>\n",
       "      <td>-1</td>\n",
       "      <td>-1</td>\n",
       "      <td>-1</td>\n",
       "      <td>-1</td>\n",
       "      <td>1</td>\n",
       "      <td>-1</td>\n",
       "      <td>-1</td>\n",
       "      <td>1</td>\n",
       "    </tr>\n",
       "    <tr>\n",
       "      <td>000006</td>\n",
       "      <td>-1</td>\n",
       "      <td>1</td>\n",
       "      <td>1</td>\n",
       "      <td>-1</td>\n",
       "      <td>-1</td>\n",
       "      <td>-1</td>\n",
       "      <td>1</td>\n",
       "      <td>-1</td>\n",
       "      <td>-1</td>\n",
       "      <td>-1</td>\n",
       "      <td>...</td>\n",
       "      <td>-1</td>\n",
       "      <td>-1</td>\n",
       "      <td>-1</td>\n",
       "      <td>1</td>\n",
       "      <td>1</td>\n",
       "      <td>-1</td>\n",
       "      <td>1</td>\n",
       "      <td>-1</td>\n",
       "      <td>-1</td>\n",
       "      <td>1</td>\n",
       "    </tr>\n",
       "    <tr>\n",
       "      <td>000007</td>\n",
       "      <td>1</td>\n",
       "      <td>-1</td>\n",
       "      <td>1</td>\n",
       "      <td>1</td>\n",
       "      <td>-1</td>\n",
       "      <td>-1</td>\n",
       "      <td>1</td>\n",
       "      <td>1</td>\n",
       "      <td>1</td>\n",
       "      <td>-1</td>\n",
       "      <td>...</td>\n",
       "      <td>-1</td>\n",
       "      <td>-1</td>\n",
       "      <td>1</td>\n",
       "      <td>-1</td>\n",
       "      <td>-1</td>\n",
       "      <td>-1</td>\n",
       "      <td>-1</td>\n",
       "      <td>-1</td>\n",
       "      <td>-1</td>\n",
       "      <td>1</td>\n",
       "    </tr>\n",
       "    <tr>\n",
       "      <td>000008</td>\n",
       "      <td>1</td>\n",
       "      <td>1</td>\n",
       "      <td>-1</td>\n",
       "      <td>1</td>\n",
       "      <td>-1</td>\n",
       "      <td>-1</td>\n",
       "      <td>1</td>\n",
       "      <td>-1</td>\n",
       "      <td>1</td>\n",
       "      <td>-1</td>\n",
       "      <td>...</td>\n",
       "      <td>-1</td>\n",
       "      <td>-1</td>\n",
       "      <td>-1</td>\n",
       "      <td>-1</td>\n",
       "      <td>-1</td>\n",
       "      <td>-1</td>\n",
       "      <td>-1</td>\n",
       "      <td>-1</td>\n",
       "      <td>-1</td>\n",
       "      <td>1</td>\n",
       "    </tr>\n",
       "    <tr>\n",
       "      <td>000009</td>\n",
       "      <td>-1</td>\n",
       "      <td>1</td>\n",
       "      <td>1</td>\n",
       "      <td>-1</td>\n",
       "      <td>-1</td>\n",
       "      <td>1</td>\n",
       "      <td>1</td>\n",
       "      <td>-1</td>\n",
       "      <td>-1</td>\n",
       "      <td>-1</td>\n",
       "      <td>...</td>\n",
       "      <td>-1</td>\n",
       "      <td>1</td>\n",
       "      <td>-1</td>\n",
       "      <td>-1</td>\n",
       "      <td>1</td>\n",
       "      <td>-1</td>\n",
       "      <td>1</td>\n",
       "      <td>-1</td>\n",
       "      <td>-1</td>\n",
       "      <td>1</td>\n",
       "    </tr>\n",
       "    <tr>\n",
       "      <td>000010</td>\n",
       "      <td>-1</td>\n",
       "      <td>-1</td>\n",
       "      <td>1</td>\n",
       "      <td>-1</td>\n",
       "      <td>-1</td>\n",
       "      <td>-1</td>\n",
       "      <td>-1</td>\n",
       "      <td>-1</td>\n",
       "      <td>-1</td>\n",
       "      <td>-1</td>\n",
       "      <td>...</td>\n",
       "      <td>-1</td>\n",
       "      <td>-1</td>\n",
       "      <td>-1</td>\n",
       "      <td>1</td>\n",
       "      <td>-1</td>\n",
       "      <td>-1</td>\n",
       "      <td>1</td>\n",
       "      <td>-1</td>\n",
       "      <td>-1</td>\n",
       "      <td>1</td>\n",
       "    </tr>\n",
       "  </tbody>\n",
       "</table>\n",
       "<p>10 rows × 40 columns</p>\n",
       "</div>"
      ],
      "text/plain": [
       "          5_o_Clock_Shadow  Arched_Eyebrows  Attractive  Bags_Under_Eyes  \\\n",
       "image_id                                                                   \n",
       "000001                  -1                1           1               -1   \n",
       "000002                  -1               -1          -1                1   \n",
       "000003                  -1               -1          -1               -1   \n",
       "000004                  -1               -1           1               -1   \n",
       "000005                  -1                1           1               -1   \n",
       "000006                  -1                1           1               -1   \n",
       "000007                   1               -1           1                1   \n",
       "000008                   1                1          -1                1   \n",
       "000009                  -1                1           1               -1   \n",
       "000010                  -1               -1           1               -1   \n",
       "\n",
       "          Bald  Bangs  Big_Lips  Big_Nose  Black_Hair  Blond_Hair  ...  \\\n",
       "image_id                                                           ...   \n",
       "000001      -1     -1        -1        -1          -1          -1  ...   \n",
       "000002      -1     -1        -1         1          -1          -1  ...   \n",
       "000003      -1     -1         1        -1          -1          -1  ...   \n",
       "000004      -1     -1        -1        -1          -1          -1  ...   \n",
       "000005      -1     -1         1        -1          -1          -1  ...   \n",
       "000006      -1     -1         1        -1          -1          -1  ...   \n",
       "000007      -1     -1         1         1           1          -1  ...   \n",
       "000008      -1     -1         1        -1           1          -1  ...   \n",
       "000009      -1      1         1        -1          -1          -1  ...   \n",
       "000010      -1     -1        -1        -1          -1          -1  ...   \n",
       "\n",
       "          Sideburns  Smiling  Straight_Hair  Wavy_Hair  Wearing_Earrings  \\\n",
       "image_id                                                                   \n",
       "000001           -1        1              1         -1                 1   \n",
       "000002           -1        1             -1         -1                -1   \n",
       "000003           -1       -1             -1          1                -1   \n",
       "000004           -1       -1              1         -1                 1   \n",
       "000005           -1       -1             -1         -1                -1   \n",
       "000006           -1       -1             -1          1                 1   \n",
       "000007           -1       -1              1         -1                -1   \n",
       "000008           -1       -1             -1         -1                -1   \n",
       "000009           -1        1             -1         -1                 1   \n",
       "000010           -1       -1             -1          1                -1   \n",
       "\n",
       "          Wearing_Hat  Wearing_Lipstick  Wearing_Necklace  Wearing_Necktie  \\\n",
       "image_id                                                                     \n",
       "000001             -1                 1                -1               -1   \n",
       "000002             -1                -1                -1               -1   \n",
       "000003             -1                -1                -1               -1   \n",
       "000004             -1                 1                 1               -1   \n",
       "000005             -1                 1                -1               -1   \n",
       "000006             -1                 1                -1               -1   \n",
       "000007             -1                -1                -1               -1   \n",
       "000008             -1                -1                -1               -1   \n",
       "000009             -1                 1                -1               -1   \n",
       "000010             -1                 1                -1               -1   \n",
       "\n",
       "          Young  \n",
       "image_id         \n",
       "000001        1  \n",
       "000002        1  \n",
       "000003        1  \n",
       "000004        1  \n",
       "000005        1  \n",
       "000006        1  \n",
       "000007        1  \n",
       "000008        1  \n",
       "000009        1  \n",
       "000010        1  \n",
       "\n",
       "[10 rows x 40 columns]"
      ]
     },
     "execution_count": 5,
     "metadata": {},
     "output_type": "execute_result"
    }
   ],
   "source": [
    "celeba.head(10)"
   ]
  },
  {
   "cell_type": "code",
   "execution_count": 6,
   "metadata": {},
   "outputs": [
    {
     "name": "stdout",
     "output_type": "stream",
     "text": [
      "<class 'pandas.core.frame.DataFrame'>\n",
      "Index: 202599 entries, 000001 to 202599\n",
      "Data columns (total 40 columns):\n",
      "5_o_Clock_Shadow       202599 non-null int64\n",
      "Arched_Eyebrows        202599 non-null int64\n",
      "Attractive             202599 non-null int64\n",
      "Bags_Under_Eyes        202599 non-null int64\n",
      "Bald                   202599 non-null int64\n",
      "Bangs                  202599 non-null int64\n",
      "Big_Lips               202599 non-null int64\n",
      "Big_Nose               202599 non-null int64\n",
      "Black_Hair             202599 non-null int64\n",
      "Blond_Hair             202599 non-null int64\n",
      "Blurry                 202599 non-null int64\n",
      "Brown_Hair             202599 non-null int64\n",
      "Bushy_Eyebrows         202599 non-null int64\n",
      "Chubby                 202599 non-null int64\n",
      "Double_Chin            202599 non-null int64\n",
      "Eyeglasses             202599 non-null int64\n",
      "Goatee                 202599 non-null int64\n",
      "Gray_Hair              202599 non-null int64\n",
      "Heavy_Makeup           202599 non-null int64\n",
      "High_Cheekbones        202599 non-null int64\n",
      "Male                   202599 non-null int64\n",
      "Mouth_Slightly_Open    202599 non-null int64\n",
      "Mustache               202599 non-null int64\n",
      "Narrow_Eyes            202599 non-null int64\n",
      "No_Beard               202599 non-null int64\n",
      "Oval_Face              202599 non-null int64\n",
      "Pale_Skin              202599 non-null int64\n",
      "Pointy_Nose            202599 non-null int64\n",
      "Receding_Hairline      202599 non-null int64\n",
      "Rosy_Cheeks            202599 non-null int64\n",
      "Sideburns              202599 non-null int64\n",
      "Smiling                202599 non-null int64\n",
      "Straight_Hair          202599 non-null int64\n",
      "Wavy_Hair              202599 non-null int64\n",
      "Wearing_Earrings       202599 non-null int64\n",
      "Wearing_Hat            202599 non-null int64\n",
      "Wearing_Lipstick       202599 non-null int64\n",
      "Wearing_Necklace       202599 non-null int64\n",
      "Wearing_Necktie        202599 non-null int64\n",
      "Young                  202599 non-null int64\n",
      "dtypes: int64(40)\n",
      "memory usage: 63.4+ MB\n"
     ]
    }
   ],
   "source": [
    "celeba.info()"
   ]
  },
  {
   "cell_type": "code",
   "execution_count": 7,
   "metadata": {},
   "outputs": [
    {
     "data": {
      "text/plain": [
       "Index(['5_o_Clock_Shadow', 'Arched_Eyebrows', 'Attractive', 'Bags_Under_Eyes',\n",
       "       'Bald', 'Bangs', 'Big_Lips', 'Big_Nose', 'Black_Hair', 'Blond_Hair',\n",
       "       'Blurry', 'Brown_Hair', 'Bushy_Eyebrows', 'Chubby', 'Double_Chin',\n",
       "       'Eyeglasses', 'Goatee', 'Gray_Hair', 'Heavy_Makeup', 'High_Cheekbones',\n",
       "       'Male', 'Mouth_Slightly_Open', 'Mustache', 'Narrow_Eyes', 'No_Beard',\n",
       "       'Oval_Face', 'Pale_Skin', 'Pointy_Nose', 'Receding_Hairline',\n",
       "       'Rosy_Cheeks', 'Sideburns', 'Smiling', 'Straight_Hair', 'Wavy_Hair',\n",
       "       'Wearing_Earrings', 'Wearing_Hat', 'Wearing_Lipstick',\n",
       "       'Wearing_Necklace', 'Wearing_Necktie', 'Young'],\n",
       "      dtype='object')"
      ]
     },
     "execution_count": 7,
     "metadata": {},
     "output_type": "execute_result"
    }
   ],
   "source": [
    "#as colunas foram salvas numa lista para uso futuro\n",
    "attributes = list(celeba.columns)\n",
    "celeba.columns"
   ]
  },
  {
   "cell_type": "markdown",
   "metadata": {},
   "source": [
    "# Exploratória"
   ]
  },
  {
   "cell_type": "markdown",
   "metadata": {},
   "source": [
    "## Checando o equilíbrio de cada fator no dataset"
   ]
  },
  {
   "cell_type": "code",
   "execution_count": 8,
   "metadata": {},
   "outputs": [],
   "source": [
    "equilibrium = []\n",
    "for att in attributes:\n",
    "    equilibrium.append([att, max(list(round(celeba[att].value_counts(normalize=True), 2)))])"
   ]
  },
  {
   "cell_type": "code",
   "execution_count": 9,
   "metadata": {},
   "outputs": [
    {
     "data": {
      "text/plain": [
       "[['Bald', 0.98],\n",
       " ['Gray_Hair', 0.96],\n",
       " ['Mustache', 0.96],\n",
       " ['Pale_Skin', 0.96],\n",
       " ['Blurry', 0.95],\n",
       " ['Double_Chin', 0.95],\n",
       " ['Wearing_Hat', 0.95],\n",
       " ['Chubby', 0.94],\n",
       " ['Goatee', 0.94],\n",
       " ['Sideburns', 0.94],\n",
       " ['Eyeglasses', 0.93],\n",
       " ['Rosy_Cheeks', 0.93],\n",
       " ['Wearing_Necktie', 0.93],\n",
       " ['Receding_Hairline', 0.92],\n",
       " ['5_o_Clock_Shadow', 0.89],\n",
       " ['Narrow_Eyes', 0.88],\n",
       " ['Wearing_Necklace', 0.88],\n",
       " ['Bushy_Eyebrows', 0.86],\n",
       " ['Bangs', 0.85],\n",
       " ['Blond_Hair', 0.85],\n",
       " ['No_Beard', 0.83],\n",
       " ['Wearing_Earrings', 0.81],\n",
       " ['Bags_Under_Eyes', 0.8],\n",
       " ['Brown_Hair', 0.79],\n",
       " ['Straight_Hair', 0.79],\n",
       " ['Big_Nose', 0.77],\n",
       " ['Young', 0.77],\n",
       " ['Big_Lips', 0.76],\n",
       " ['Black_Hair', 0.76],\n",
       " ['Arched_Eyebrows', 0.73],\n",
       " ['Oval_Face', 0.72],\n",
       " ['Pointy_Nose', 0.72],\n",
       " ['Wavy_Hair', 0.68],\n",
       " ['Heavy_Makeup', 0.61],\n",
       " ['Male', 0.58],\n",
       " ['High_Cheekbones', 0.54],\n",
       " ['Wearing_Lipstick', 0.53],\n",
       " ['Mouth_Slightly_Open', 0.52],\n",
       " ['Smiling', 0.52],\n",
       " ['Attractive', 0.51]]"
      ]
     },
     "execution_count": 9,
     "metadata": {},
     "output_type": "execute_result"
    }
   ],
   "source": [
    "sorted(equilibrium, key=lambda minilist: minilist[1], reverse=True)"
   ]
  },
  {
   "cell_type": "markdown",
   "metadata": {},
   "source": [
    "## Checando Proporções e Correlações Específicas"
   ]
  },
  {
   "cell_type": "code",
   "execution_count": 10,
   "metadata": {},
   "outputs": [],
   "source": [
    "palette = sns.diverging_palette(255, 10, sep=245, n=2)"
   ]
  },
  {
   "cell_type": "markdown",
   "metadata": {},
   "source": [
    "## Gênero"
   ]
  },
  {
   "cell_type": "code",
   "execution_count": 11,
   "metadata": {},
   "outputs": [
    {
     "data": {
      "text/plain": [
       "Female    0.58\n",
       "Male      0.42\n",
       "Name: Male, dtype: float64"
      ]
     },
     "execution_count": 11,
     "metadata": {},
     "output_type": "execute_result"
    }
   ],
   "source": [
    "round(celeba['Male'].replace([1, -1], ['Male', 'Female']).value_counts(normalize=True), 2)"
   ]
  },
  {
   "cell_type": "code",
   "execution_count": 12,
   "metadata": {},
   "outputs": [
    {
     "data": {
      "image/png": "[encoded data removed]",
      "text/plain": [
       "<Figure size 432x288 with 1 Axes>"
      ]
     },
     "metadata": {
      "needs_background": "light"
     },
     "output_type": "display_data"
    }
   ],
   "source": [
    "fig, ax = plt.subplots(1, 1)\n",
    "sns.countplot(x='Male', data=celeba.replace([1, -1], ['Male', 'Female']), order=['Male', 'Female'], palette=palette)\n",
    "ax.set_ylabel('')    \n",
    "ax.set_xlabel('');"
   ]
  },
  {
   "cell_type": "markdown",
   "metadata": {},
   "source": [
    "Checando a correlação de gênero com alguns atributos que podem ser socialmente controversos."
   ]
  },
  {
   "cell_type": "code",
   "execution_count": 13,
   "metadata": {},
   "outputs": [
    {
     "data": {
      "text/plain": [
       "-0.79"
      ]
     },
     "execution_count": 13,
     "metadata": {},
     "output_type": "execute_result"
    }
   ],
   "source": [
    "round(celeba['Male'].corr(celeba['Wearing_Lipstick']), 2)"
   ]
  },
  {
   "cell_type": "code",
   "execution_count": 14,
   "metadata": {},
   "outputs": [
    {
     "data": {
      "text/plain": [
       "-0.67"
      ]
     },
     "execution_count": 14,
     "metadata": {},
     "output_type": "execute_result"
    }
   ],
   "source": [
    "round(celeba['Male'].corr(celeba['Heavy_Makeup']), 2)"
   ]
  },
  {
   "cell_type": "code",
   "execution_count": 15,
   "metadata": {},
   "outputs": [
    {
     "data": {
      "text/plain": [
       "0.25"
      ]
     },
     "execution_count": 15,
     "metadata": {},
     "output_type": "execute_result"
    }
   ],
   "source": [
    "round(celeba['Male'].corr(celeba['Mustache']), 2)"
   ]
  },
  {
   "cell_type": "code",
   "execution_count": 16,
   "metadata": {},
   "outputs": [
    {
     "data": {
      "text/plain": [
       "0.31"
      ]
     },
     "execution_count": 16,
     "metadata": {},
     "output_type": "execute_result"
    }
   ],
   "source": [
    "round(celeba['Male'].corr(celeba['Goatee']), 2)"
   ]
  },
  {
   "cell_type": "code",
   "execution_count": 17,
   "metadata": {},
   "outputs": [
    {
     "data": {
      "text/plain": [
       "0.29"
      ]
     },
     "execution_count": 17,
     "metadata": {},
     "output_type": "execute_result"
    }
   ],
   "source": [
    "round(celeba['Male'].corr(celeba['Sideburns']), 2)"
   ]
  },
  {
   "cell_type": "code",
   "execution_count": 18,
   "metadata": {
    "scrolled": true
   },
   "outputs": [
    {
     "data": {
      "text/plain": [
       "-0.37"
      ]
     },
     "execution_count": 18,
     "metadata": {},
     "output_type": "execute_result"
    }
   ],
   "source": [
    "round(celeba['Male'].corr(celeba['Wearing_Earrings']), 2)"
   ]
  },
  {
   "cell_type": "code",
   "execution_count": 19,
   "metadata": {},
   "outputs": [
    {
     "data": {
      "text/plain": [
       "-0.27"
      ]
     },
     "execution_count": 19,
     "metadata": {},
     "output_type": "execute_result"
    }
   ],
   "source": [
    "round(celeba['Male'].corr(celeba['Wearing_Necklace']), 2)"
   ]
  },
  {
   "cell_type": "code",
   "execution_count": 20,
   "metadata": {},
   "outputs": [
    {
     "data": {
      "text/plain": [
       "0.33"
      ]
     },
     "execution_count": 20,
     "metadata": {},
     "output_type": "execute_result"
    }
   ],
   "source": [
    "round(celeba['Male'].corr(celeba['Wearing_Necktie']), 2)"
   ]
  },
  {
   "cell_type": "code",
   "execution_count": 21,
   "metadata": {},
   "outputs": [
    {
     "data": {
      "text/plain": [
       "0.13"
      ]
     },
     "execution_count": 21,
     "metadata": {},
     "output_type": "execute_result"
    }
   ],
   "source": [
    "round(celeba['Male'].corr(celeba['Wearing_Hat']), 2)"
   ]
  },
  {
   "cell_type": "markdown",
   "metadata": {},
   "source": [
    "É perceptível que uso maquiagem/batom, que é socialmente considerado um atributo feminino, é altamente atrelado a gênero em uma correlação negativa. Ou seja: se você é mulher as chances de usar maquiagem/batom são altas (mais abaixo vamos perceber que essas duas características estão bastante correlacionadas).\n",
    "Da mesma forma o oposto se aplica, mas de forma menos intensa: o uso de bigode e barba, atributos socialmente masculinos, é bastante atrelado a gênero com uma correlação positiva. Provavelmente porque é mais raro uma mulher possuir pelos faciais - e, entre homens, não é uma exigência social.\n",
    "\n",
    "Para acessórios a correlação mantém um nível mais baixo mas ainda assim conforme o socialmente esperado: acessórios como brincos e cordões são mais presentes em mulheres ao contrário de gravatas e chapéus."
   ]
  },
  {
   "cell_type": "markdown",
   "metadata": {},
   "source": [
    "## Idade"
   ]
  },
  {
   "cell_type": "code",
   "execution_count": 22,
   "metadata": {},
   "outputs": [
    {
     "data": {
      "text/plain": [
       "Young    0.77\n",
       "Old      0.23\n",
       "Name: Young, dtype: float64"
      ]
     },
     "execution_count": 22,
     "metadata": {},
     "output_type": "execute_result"
    }
   ],
   "source": [
    "round(celeba['Young'].replace([1, -1], ['Young', 'Old']).value_counts(normalize=True), 2)"
   ]
  },
  {
   "cell_type": "code",
   "execution_count": 23,
   "metadata": {},
   "outputs": [
    {
     "data": {
      "image/png": "[encoded data removed]",
      "text/plain": [
       "<Figure size 432x288 with 1 Axes>"
      ]
     },
     "metadata": {
      "needs_background": "light"
     },
     "output_type": "display_data"
    }
   ],
   "source": [
    "fig, ax = plt.subplots(1, 1)\n",
    "sns.countplot(x='Young', data=celeba.replace([1, -1], ['Young', 'Not Young']), order=['Young', 'Not Young'], palette=palette)\n",
    "ax.set_ylabel('')    \n",
    "ax.set_xlabel('');"
   ]
  },
  {
   "cell_type": "markdown",
   "metadata": {},
   "source": [
    "Checando a correlação de idade com atributos esperados e/ou socialmente controversos."
   ]
  },
  {
   "cell_type": "code",
   "execution_count": 24,
   "metadata": {
    "scrolled": true
   },
   "outputs": [
    {
     "data": {
      "text/plain": [
       "-0.36"
      ]
     },
     "execution_count": 24,
     "metadata": {},
     "output_type": "execute_result"
    }
   ],
   "source": [
    "round(celeba['Young'].corr(celeba['Gray_Hair']), 2)"
   ]
  },
  {
   "cell_type": "code",
   "execution_count": 25,
   "metadata": {},
   "outputs": [
    {
     "data": {
      "text/plain": [
       "-0.2"
      ]
     },
     "execution_count": 25,
     "metadata": {},
     "output_type": "execute_result"
    }
   ],
   "source": [
    "round(celeba['Young'].corr(celeba['Bald']), 2)"
   ]
  },
  {
   "cell_type": "code",
   "execution_count": 26,
   "metadata": {},
   "outputs": [
    {
     "data": {
      "text/plain": [
       "0.25"
      ]
     },
     "execution_count": 26,
     "metadata": {},
     "output_type": "execute_result"
    }
   ],
   "source": [
    "round(celeba['Young'].corr(celeba['Wearing_Lipstick']), 2)"
   ]
  },
  {
   "cell_type": "code",
   "execution_count": 27,
   "metadata": {
    "scrolled": true
   },
   "outputs": [
    {
     "data": {
      "text/plain": [
       "0.24"
      ]
     },
     "execution_count": 27,
     "metadata": {},
     "output_type": "execute_result"
    }
   ],
   "source": [
    "round(celeba['Young'].corr(celeba['Heavy_Makeup']), 2)"
   ]
  },
  {
   "cell_type": "code",
   "execution_count": 28,
   "metadata": {},
   "outputs": [
    {
     "data": {
      "text/plain": [
       "-0.14"
      ]
     },
     "execution_count": 28,
     "metadata": {},
     "output_type": "execute_result"
    }
   ],
   "source": [
    "round(celeba['Young'].corr(celeba['Mustache']), 2)"
   ]
  },
  {
   "cell_type": "code",
   "execution_count": 29,
   "metadata": {},
   "outputs": [
    {
     "data": {
      "text/plain": [
       "-0.11"
      ]
     },
     "execution_count": 29,
     "metadata": {},
     "output_type": "execute_result"
    }
   ],
   "source": [
    "round(celeba['Young'].corr(celeba['Goatee']), 2)"
   ]
  },
  {
   "cell_type": "code",
   "execution_count": 30,
   "metadata": {},
   "outputs": [
    {
     "data": {
      "text/plain": [
       "-0.09"
      ]
     },
     "execution_count": 30,
     "metadata": {},
     "output_type": "execute_result"
    }
   ],
   "source": [
    "round(celeba['Young'].corr(celeba['Sideburns']), 2)"
   ]
  },
  {
   "cell_type": "code",
   "execution_count": 31,
   "metadata": {},
   "outputs": [
    {
     "data": {
      "text/plain": [
       "0.03"
      ]
     },
     "execution_count": 31,
     "metadata": {},
     "output_type": "execute_result"
    }
   ],
   "source": [
    "round(celeba['Young'].corr(celeba['Wearing_Earrings']), 2)"
   ]
  },
  {
   "cell_type": "code",
   "execution_count": 32,
   "metadata": {},
   "outputs": [
    {
     "data": {
      "text/plain": [
       "0.01"
      ]
     },
     "execution_count": 32,
     "metadata": {},
     "output_type": "execute_result"
    }
   ],
   "source": [
    "round(celeba['Young'].corr(celeba['Wearing_Necklace']), 2)"
   ]
  },
  {
   "cell_type": "code",
   "execution_count": 33,
   "metadata": {},
   "outputs": [
    {
     "data": {
      "text/plain": [
       "-0.25"
      ]
     },
     "execution_count": 33,
     "metadata": {},
     "output_type": "execute_result"
    }
   ],
   "source": [
    "round(celeba['Young'].corr(celeba['Wearing_Necktie']), 2)"
   ]
  },
  {
   "cell_type": "code",
   "execution_count": 34,
   "metadata": {},
   "outputs": [
    {
     "data": {
      "text/plain": [
       "-0.04"
      ]
     },
     "execution_count": 34,
     "metadata": {},
     "output_type": "execute_result"
    }
   ],
   "source": [
    "round(celeba['Young'].corr(celeba['Wearing_Hat']), 2)"
   ]
  },
  {
   "cell_type": "markdown",
   "metadata": {},
   "source": [
    "### Fazendo a mesma análise de gênero porém aplicada apenas a pessoas não jovens"
   ]
  },
  {
   "cell_type": "markdown",
   "metadata": {},
   "source": [
    "Primeiro, uma análise de gênero de acordo com faixa etária."
   ]
  },
  {
   "cell_type": "code",
   "execution_count": 35,
   "metadata": {},
   "outputs": [
    {
     "data": {
      "text/plain": [
       "Female    0.66\n",
       "Male      0.34\n",
       "Name: Male, dtype: float64"
      ]
     },
     "execution_count": 35,
     "metadata": {},
     "output_type": "execute_result"
    }
   ],
   "source": [
    "round(celeba['Male'][celeba['Young'] == 1].replace([1, -1], ['Male', 'Female']).value_counts(normalize=True), 2)"
   ]
  },
  {
   "cell_type": "code",
   "execution_count": 36,
   "metadata": {},
   "outputs": [
    {
     "data": {
      "image/png": "[encoded data removed]",
      "text/plain": [
       "<Figure size 432x288 with 1 Axes>"
      ]
     },
     "metadata": {
      "needs_background": "light"
     },
     "output_type": "display_data"
    }
   ],
   "source": [
    "fig, ax = plt.subplots(1, 1)\n",
    "sns.countplot(x='Male', data=celeba[celeba['Young'] == 1].replace([1, -1], ['Male', 'Female']), order=['Male', 'Female'], palette=palette)\n",
    "ax.set_ylabel('')    \n",
    "ax.set_xlabel('');"
   ]
  },
  {
   "cell_type": "code",
   "execution_count": 37,
   "metadata": {
    "scrolled": true
   },
   "outputs": [
    {
     "data": {
      "text/plain": [
       "Male      0.68\n",
       "Female    0.32\n",
       "Name: Male, dtype: float64"
      ]
     },
     "execution_count": 37,
     "metadata": {},
     "output_type": "execute_result"
    }
   ],
   "source": [
    "round(celeba['Male'][celeba['Young'] == -1].replace([1, -1], ['Male', 'Female']).value_counts(normalize=True), 2)"
   ]
  },
  {
   "cell_type": "code",
   "execution_count": 38,
   "metadata": {},
   "outputs": [
    {
     "data": {
      "image/png": "[encoded data removed]",
      "text/plain": [
       "<Figure size 432x288 with 1 Axes>"
      ]
     },
     "metadata": {
      "needs_background": "light"
     },
     "output_type": "display_data"
    }
   ],
   "source": [
    "fig, ax = plt.subplots(1, 1)\n",
    "sns.countplot(x='Male', data=celeba[celeba['Young'] == -1].replace([1, -1], ['Male', 'Female']), order=['Male', 'Female'], palette=palette)\n",
    "ax.set_ylabel('')    \n",
    "ax.set_xlabel('');"
   ]
  },
  {
   "cell_type": "code",
   "execution_count": 39,
   "metadata": {},
   "outputs": [
    {
     "data": {
      "text/plain": [
       "0.19"
      ]
     },
     "execution_count": 39,
     "metadata": {},
     "output_type": "execute_result"
    }
   ],
   "source": [
    "round(celeba['Male'][celeba['Young'] == -1].corr(celeba['Gray_Hair']), 2)"
   ]
  },
  {
   "cell_type": "code",
   "execution_count": 40,
   "metadata": {},
   "outputs": [
    {
     "data": {
      "text/plain": [
       "0.2"
      ]
     },
     "execution_count": 40,
     "metadata": {},
     "output_type": "execute_result"
    }
   ],
   "source": [
    "round(celeba['Male'][celeba['Young'] == -1].corr(celeba['Bald']), 2)"
   ]
  },
  {
   "cell_type": "code",
   "execution_count": 41,
   "metadata": {
    "scrolled": true
   },
   "outputs": [
    {
     "data": {
      "text/plain": [
       "-0.81"
      ]
     },
     "execution_count": 41,
     "metadata": {},
     "output_type": "execute_result"
    }
   ],
   "source": [
    "round(celeba['Male'][celeba['Young'] == -1].corr(celeba['Wearing_Lipstick']), 2)"
   ]
  },
  {
   "cell_type": "code",
   "execution_count": 42,
   "metadata": {
    "scrolled": true
   },
   "outputs": [
    {
     "data": {
      "text/plain": [
       "-0.65"
      ]
     },
     "execution_count": 42,
     "metadata": {},
     "output_type": "execute_result"
    }
   ],
   "source": [
    "round(celeba['Male'][celeba['Young'] == -1].corr(celeba['Heavy_Makeup']), 2)"
   ]
  },
  {
   "cell_type": "code",
   "execution_count": 43,
   "metadata": {},
   "outputs": [
    {
     "data": {
      "text/plain": [
       "0.22"
      ]
     },
     "execution_count": 43,
     "metadata": {},
     "output_type": "execute_result"
    }
   ],
   "source": [
    "round(celeba['Male'][celeba['Young'] == -1].corr(celeba['Mustache']), 2)"
   ]
  },
  {
   "cell_type": "code",
   "execution_count": 44,
   "metadata": {},
   "outputs": [
    {
     "data": {
      "text/plain": [
       "0.24"
      ]
     },
     "execution_count": 44,
     "metadata": {},
     "output_type": "execute_result"
    }
   ],
   "source": [
    "round(celeba['Male'][celeba['Young'] == -1].corr(celeba['Goatee']), 2)"
   ]
  },
  {
   "cell_type": "code",
   "execution_count": 45,
   "metadata": {},
   "outputs": [
    {
     "data": {
      "text/plain": [
       "0.22"
      ]
     },
     "execution_count": 45,
     "metadata": {},
     "output_type": "execute_result"
    }
   ],
   "source": [
    "round(celeba['Male'][celeba['Young'] == -1].corr(celeba['Sideburns']), 2)"
   ]
  },
  {
   "cell_type": "code",
   "execution_count": 46,
   "metadata": {},
   "outputs": [
    {
     "data": {
      "text/plain": [
       "-0.61"
      ]
     },
     "execution_count": 46,
     "metadata": {},
     "output_type": "execute_result"
    }
   ],
   "source": [
    "round(celeba['Male'][celeba['Young'] == -1].corr(celeba['Wearing_Earrings']), 2)"
   ]
  },
  {
   "cell_type": "code",
   "execution_count": 47,
   "metadata": {},
   "outputs": [
    {
     "data": {
      "text/plain": [
       "-0.46"
      ]
     },
     "execution_count": 47,
     "metadata": {},
     "output_type": "execute_result"
    }
   ],
   "source": [
    "round(celeba['Male'][celeba['Young'] == -1].corr(celeba['Wearing_Necklace']), 2)"
   ]
  },
  {
   "cell_type": "code",
   "execution_count": 48,
   "metadata": {},
   "outputs": [
    {
     "data": {
      "text/plain": [
       "0.34"
      ]
     },
     "execution_count": 48,
     "metadata": {},
     "output_type": "execute_result"
    }
   ],
   "source": [
    "round(celeba['Male'][celeba['Young'] == -1].corr(celeba['Wearing_Necktie']), 2)"
   ]
  },
  {
   "cell_type": "code",
   "execution_count": 49,
   "metadata": {},
   "outputs": [
    {
     "data": {
      "text/plain": [
       "0.12"
      ]
     },
     "execution_count": 49,
     "metadata": {},
     "output_type": "execute_result"
    }
   ],
   "source": [
    "round(celeba['Male'][celeba['Young'] == -1].corr(celeba['Wearing_Hat']), 2)"
   ]
  },
  {
   "cell_type": "markdown",
   "metadata": {},
   "source": [
    "Aqui é possível observar que indivíduos mais velhos têm cabelo branco ou são carecas com mais frequência do que indivíduos jovens, mesmo que não seja unanimidade.\n",
    "\n",
    "Também é possível fazer uma análise do uso de maquiagens, pelos faciais e acessórios:\n",
    "Atributos socialmente considerados femininos (maquiagem e jóias) são mais presentes em indivíduos jovens enquanto atributos socialmente considerados masculinos (cabelo branco, careca, pelos faciais, gravatas e chapéus) são mais presentes em indivíduos mais velhos, mesmo que em escala menor, provavelmente por existir uma quantidade maior de mulheres no grupo de jovens.\n",
    "\n",
    "Outro fato interessante é que entre as indivíduos mais velhos há uma quantidade substancial a mais de homens - o oposto para pessoas jovens.\n",
    "\n",
    "Ao considerarmos apenas as pessoas mais velhas, fazendo distinção por gênero, os resultados são bastantes semelhantes aos que obtivemos anteriormente quando considerávamos todos os indivíduos: o uso de maquiagem, pelos faciais, gravatas e chapéus não muda muito quando fazemos uma seleção apenas de gênero.\n",
    "No entanto o uso de jóias tem um grande salto para mulheres idosas: a quantidade é consideravelmente maior.\n",
    "- Hipótese: indivíduos jovens não compram tantas jóias\n",
    "- Hipótese: indivíduos mais velhos consideram jóias um atributo que agrega valor atrativo"
   ]
  },
  {
   "cell_type": "markdown",
   "metadata": {},
   "source": [
    "## Atributos de Maquiagem\n",
    "### E a correlação direta entre eles"
   ]
  },
  {
   "cell_type": "code",
   "execution_count": 50,
   "metadata": {},
   "outputs": [
    {
     "data": {
      "text/plain": [
       "No Heavy Makeup    0.61\n",
       "Heavy Makeup       0.39\n",
       "Name: Heavy_Makeup, dtype: float64"
      ]
     },
     "execution_count": 50,
     "metadata": {},
     "output_type": "execute_result"
    }
   ],
   "source": [
    "round(celeba['Heavy_Makeup'].replace([1, -1], ['Heavy Makeup', 'No Heavy Makeup']).value_counts(normalize=True), 2)"
   ]
  },
  {
   "cell_type": "code",
   "execution_count": 51,
   "metadata": {},
   "outputs": [
    {
     "data": {
      "text/plain": [
       "Not Wearing Lipstick    0.53\n",
       "Wearing Lipstick        0.47\n",
       "Name: Wearing_Lipstick, dtype: float64"
      ]
     },
     "execution_count": 51,
     "metadata": {},
     "output_type": "execute_result"
    }
   ],
   "source": [
    "round(celeba['Wearing_Lipstick'].replace([1, -1], ['Wearing Lipstick', 'Not Wearing Lipstick']).value_counts(normalize=True), 2)"
   ]
  },
  {
   "cell_type": "code",
   "execution_count": 52,
   "metadata": {},
   "outputs": [
    {
     "data": {
      "text/plain": [
       "0.8"
      ]
     },
     "execution_count": 52,
     "metadata": {},
     "output_type": "execute_result"
    }
   ],
   "source": [
    "round(celeba['Heavy_Makeup'].corr(celeba['Wearing_Lipstick']), 2)"
   ]
  },
  {
   "cell_type": "markdown",
   "metadata": {},
   "source": [
    "A correlação aqui é nítida: o uso de maquiagem pesada é extremamente correlacionado ao uso de batom. Dedutível, já que batom é um dos principais componentes em maquiagem."
   ]
  },
  {
   "cell_type": "markdown",
   "metadata": {},
   "source": [
    "## Atributos de Pelos Faciais\n",
    "### E a correlação direta entre eles"
   ]
  },
  {
   "cell_type": "code",
   "execution_count": 53,
   "metadata": {},
   "outputs": [
    {
     "data": {
      "text/plain": [
       "No Mustache    0.96\n",
       "Mustache       0.04\n",
       "Name: Mustache, dtype: float64"
      ]
     },
     "execution_count": 53,
     "metadata": {},
     "output_type": "execute_result"
    }
   ],
   "source": [
    "round(celeba['Mustache'].replace([1, -1], ['Mustache', 'No Mustache']).value_counts(normalize=True), 2)"
   ]
  },
  {
   "cell_type": "code",
   "execution_count": 54,
   "metadata": {},
   "outputs": [
    {
     "data": {
      "text/plain": [
       "No Goatee    0.94\n",
       "Goatee       0.06\n",
       "Name: Goatee, dtype: float64"
      ]
     },
     "execution_count": 54,
     "metadata": {},
     "output_type": "execute_result"
    }
   ],
   "source": [
    "round(celeba['Goatee'].replace([1, -1], ['Goatee', 'No Goatee']).value_counts(normalize=True), 2)"
   ]
  },
  {
   "cell_type": "code",
   "execution_count": 55,
   "metadata": {},
   "outputs": [
    {
     "data": {
      "text/plain": [
       "No Sideburns    0.94\n",
       "Sideburns       0.06\n",
       "Name: Sideburns, dtype: float64"
      ]
     },
     "execution_count": 55,
     "metadata": {},
     "output_type": "execute_result"
    }
   ],
   "source": [
    "round(celeba['Sideburns'].replace([1, -1], ['Sideburns', 'No Sideburns']).value_counts(normalize=True), 2)"
   ]
  },
  {
   "cell_type": "code",
   "execution_count": 56,
   "metadata": {},
   "outputs": [
    {
     "data": {
      "text/plain": [
       "0.45"
      ]
     },
     "execution_count": 56,
     "metadata": {},
     "output_type": "execute_result"
    }
   ],
   "source": [
    "round(celeba['Mustache'].corr(celeba['Goatee']), 2)"
   ]
  },
  {
   "cell_type": "code",
   "execution_count": 57,
   "metadata": {},
   "outputs": [
    {
     "data": {
      "text/plain": [
       "0.34"
      ]
     },
     "execution_count": 57,
     "metadata": {},
     "output_type": "execute_result"
    }
   ],
   "source": [
    "round(celeba['Mustache'].corr(celeba['Sideburns']), 2)"
   ]
  },
  {
   "cell_type": "code",
   "execution_count": 58,
   "metadata": {},
   "outputs": [
    {
     "data": {
      "text/plain": [
       "0.51"
      ]
     },
     "execution_count": 58,
     "metadata": {},
     "output_type": "execute_result"
    }
   ],
   "source": [
    "round(celeba['Goatee'].corr(celeba['Sideburns']), 2)"
   ]
  },
  {
   "cell_type": "markdown",
   "metadata": {},
   "source": [
    "Nota-se que não ter pêlos faciais (seja apenas bigode, cavanhaque ou costeleta) é uma preferência geral independente de gênero. Também é possível observar que o uso de um dos atributos tem bastante correlação com o outro, ou seja, é mais comum o uso de \"barba completa\" do que de suas partes fatiadas."
   ]
  },
  {
   "cell_type": "markdown",
   "metadata": {},
   "source": [
    "## Uso de Acessórios"
   ]
  },
  {
   "cell_type": "code",
   "execution_count": 59,
   "metadata": {},
   "outputs": [
    {
     "data": {
      "text/plain": [
       "Not Wearing Earrings    0.81\n",
       "Wearing Earrings        0.19\n",
       "Name: Wearing_Earrings, dtype: float64"
      ]
     },
     "execution_count": 59,
     "metadata": {},
     "output_type": "execute_result"
    }
   ],
   "source": [
    "round(celeba['Wearing_Earrings'].replace([1, -1], ['Wearing Earrings', 'Not Wearing Earrings']).value_counts(normalize=True), 2)"
   ]
  },
  {
   "cell_type": "code",
   "execution_count": 60,
   "metadata": {},
   "outputs": [
    {
     "data": {
      "text/plain": [
       "Not Wearing Necklace    0.88\n",
       "Wearing Necklace        0.12\n",
       "Name: Wearing_Necklace, dtype: float64"
      ]
     },
     "execution_count": 60,
     "metadata": {},
     "output_type": "execute_result"
    }
   ],
   "source": [
    "round(celeba['Wearing_Necklace'].replace([1, -1], ['Wearing Necklace', 'Not Wearing Necklace']).value_counts(normalize=True), 2)"
   ]
  },
  {
   "cell_type": "code",
   "execution_count": 61,
   "metadata": {},
   "outputs": [
    {
     "data": {
      "text/plain": [
       "Not Wearing Necktie    0.93\n",
       "Wearing Necktie        0.07\n",
       "Name: Wearing_Necktie, dtype: float64"
      ]
     },
     "execution_count": 61,
     "metadata": {},
     "output_type": "execute_result"
    }
   ],
   "source": [
    "round(celeba['Wearing_Necktie'].replace([1, -1], ['Wearing Necktie', 'Not Wearing Necktie']).value_counts(normalize=True), 2)"
   ]
  },
  {
   "cell_type": "code",
   "execution_count": 62,
   "metadata": {},
   "outputs": [
    {
     "data": {
      "text/plain": [
       "Not Wearing Hat    0.95\n",
       "Wearing Hat        0.05\n",
       "Name: Wearing_Hat, dtype: float64"
      ]
     },
     "execution_count": 62,
     "metadata": {},
     "output_type": "execute_result"
    }
   ],
   "source": [
    "round(celeba['Wearing_Hat'].replace([1, -1], ['Wearing Hat', 'Not Wearing Hat']).value_counts(normalize=True), 2)"
   ]
  },
  {
   "cell_type": "markdown",
   "metadata": {},
   "source": [
    "Acessórios num geral estão presentes em uma minoria dos indivíduos."
   ]
  },
  {
   "cell_type": "markdown",
   "metadata": {},
   "source": [
    "## Cor do cabelo"
   ]
  },
  {
   "cell_type": "markdown",
   "metadata": {},
   "source": [
    "Desconsiderando indivíduos carecas, uma análise de quais cores de cabelo são mais dominantes."
   ]
  },
  {
   "cell_type": "code",
   "execution_count": 63,
   "metadata": {},
   "outputs": [
    {
     "data": {
      "text/plain": [
       "Other Color    0.76\n",
       "Black Hair     0.24\n",
       "Name: Black_Hair, dtype: float64"
      ]
     },
     "execution_count": 63,
     "metadata": {},
     "output_type": "execute_result"
    }
   ],
   "source": [
    "black = round(celeba[celeba['Bald'] == -1]['Black_Hair'].replace([1, -1], ['Black Hair', 'Other Color']).value_counts(normalize=True), 2)[1]\n",
    "round(celeba[celeba['Bald'] == -1]['Black_Hair'].replace([1, -1], ['Black Hair', 'Other Color']).value_counts(normalize=True), 2)"
   ]
  },
  {
   "cell_type": "code",
   "execution_count": 64,
   "metadata": {},
   "outputs": [
    {
     "data": {
      "text/plain": [
       "Other Color    0.85\n",
       "Blond Hair     0.15\n",
       "Name: Blond_Hair, dtype: float64"
      ]
     },
     "execution_count": 64,
     "metadata": {},
     "output_type": "execute_result"
    }
   ],
   "source": [
    "blond = round(celeba[celeba['Bald'] == -1]['Blond_Hair'].replace([1, -1], ['Blond Hair', 'Other Color']).value_counts(normalize=True), 2)[1]\n",
    "round(celeba[celeba['Bald'] == -1]['Blond_Hair'].replace([1, -1], ['Blond Hair', 'Other Color']).value_counts(normalize=True), 2)"
   ]
  },
  {
   "cell_type": "code",
   "execution_count": 65,
   "metadata": {},
   "outputs": [
    {
     "data": {
      "text/plain": [
       "Other Color    0.79\n",
       "Brown Hair     0.21\n",
       "Name: Brown_Hair, dtype: float64"
      ]
     },
     "execution_count": 65,
     "metadata": {},
     "output_type": "execute_result"
    }
   ],
   "source": [
    "brown = round(celeba[celeba['Bald'] == -1]['Brown_Hair'].replace([1, -1], ['Brown Hair', 'Other Color']).value_counts(normalize=True), 2)[1]\n",
    "round(celeba[celeba['Bald'] == -1]['Brown_Hair'].replace([1, -1], ['Brown Hair', 'Other Color']).value_counts(normalize=True), 2)"
   ]
  },
  {
   "cell_type": "code",
   "execution_count": 66,
   "metadata": {},
   "outputs": [
    {
     "data": {
      "text/plain": [
       "Other Color    0.96\n",
       "Gray Hair      0.04\n",
       "Name: Gray_Hair, dtype: float64"
      ]
     },
     "execution_count": 66,
     "metadata": {},
     "output_type": "execute_result"
    }
   ],
   "source": [
    "gray = round(celeba[celeba['Bald'] == -1]['Gray_Hair'].replace([1, -1], ['Gray Hair', 'Other Color']).value_counts(normalize=True), 2)[1]\n",
    "round(celeba[celeba['Bald'] == -1]['Gray_Hair'].replace([1, -1], ['Gray Hair', 'Other Color']).value_counts(normalize=True), 2)"
   ]
  },
  {
   "cell_type": "code",
   "execution_count": 67,
   "metadata": {},
   "outputs": [
    {
     "data": {
      "text/plain": [
       "0.64"
      ]
     },
     "execution_count": 67,
     "metadata": {},
     "output_type": "execute_result"
    }
   ],
   "source": [
    "black+blond+brown+gray"
   ]
  },
  {
   "cell_type": "code",
   "execution_count": 68,
   "metadata": {},
   "outputs": [
    {
     "data": {
      "text/plain": [
       "0.36"
      ]
     },
     "execution_count": 68,
     "metadata": {},
     "output_type": "execute_result"
    }
   ],
   "source": [
    "mask1 = celeba['Black_Hair'] == -1\n",
    "mask2 = celeba['Blond_Hair'] == -1\n",
    "mask3 = celeba['Brown_Hair'] == -1\n",
    "mask4 = celeba['Gray_Hair'] == -1\n",
    "mask5 = celeba['Bald'] == -1\n",
    "other = round(celeba[mask1&mask2&mask3&mask4&mask5].count()/celeba.count(), 2)[0]\n",
    "round(celeba[mask1&mask2&mask3&mask4&mask5].count()/celeba.count(), 2)[0]"
   ]
  },
  {
   "cell_type": "code",
   "execution_count": 69,
   "metadata": {},
   "outputs": [
    {
     "data": {
      "text/plain": [
       "1.0"
      ]
     },
     "execution_count": 69,
     "metadata": {},
     "output_type": "execute_result"
    }
   ],
   "source": [
    "black+blond+brown+gray+other"
   ]
  },
  {
   "cell_type": "markdown",
   "metadata": {},
   "source": [
    "Entre pessoas não carecas a cor mais comum de cabelo é preta, seguida de castanha, loira e por fim cinza.\n",
    "\n",
    "No entanto ao somarmos o percentual de ocorrência dessas cores não obtemos 100%.\n",
    "- Hipótese: existem cabelos em outras cores nos indivíduos (ruivo, cores não genéticas)\n",
    "- Hipótese: tonalidades que estão entre duas das catalogadas e, por isso, não foram classificadas como nenhuma delas"
   ]
  },
  {
   "cell_type": "markdown",
   "metadata": {},
   "source": [
    "## Sorriso"
   ]
  },
  {
   "cell_type": "code",
   "execution_count": 70,
   "metadata": {},
   "outputs": [
    {
     "data": {
      "text/plain": [
       "Not Smiling    0.52\n",
       "Smiling        0.48\n",
       "Name: Smiling, dtype: float64"
      ]
     },
     "execution_count": 70,
     "metadata": {},
     "output_type": "execute_result"
    }
   ],
   "source": [
    "round(celeba['Smiling'].replace([1, -1], ['Smiling', 'Not Smiling']).value_counts(normalize=True), 2)"
   ]
  },
  {
   "cell_type": "markdown",
   "metadata": {},
   "source": [
    "## Atratividade"
   ]
  },
  {
   "cell_type": "code",
   "execution_count": 71,
   "metadata": {},
   "outputs": [
    {
     "data": {
      "text/plain": [
       "Attractive        0.51\n",
       "Not Attractive    0.49\n",
       "Name: Attractive, dtype: float64"
      ]
     },
     "execution_count": 71,
     "metadata": {},
     "output_type": "execute_result"
    }
   ],
   "source": [
    "round(celeba['Attractive'].replace([1, -1], ['Attractive', 'Not Attractive']).value_counts(normalize=True), 2)"
   ]
  },
  {
   "cell_type": "code",
   "execution_count": 72,
   "metadata": {},
   "outputs": [
    {
     "data": {
      "image/png": "[encoded data removed]",
      "text/plain": [
       "<Figure size 432x288 with 1 Axes>"
      ]
     },
     "metadata": {
      "needs_background": "light"
     },
     "output_type": "display_data"
    }
   ],
   "source": [
    "fig, ax = plt.subplots(1, 1)\n",
    "sns.countplot(x='Attractive', data=celeba.replace([1, -1], ['Attractive', 'Not Attractive']), order=['Attractive', 'Not Attractive'], palette=palette)\n",
    "ax.set_ylabel('')    \n",
    "ax.set_xlabel('');"
   ]
  },
  {
   "cell_type": "markdown",
   "metadata": {},
   "source": [
    "Por ser a variável mais bem equilibrada de todo o dataset e também supostamente a mais subjetiva, é um bom foco para a análise."
   ]
  },
  {
   "cell_type": "markdown",
   "metadata": {},
   "source": [
    "# Checando correlações visualmente"
   ]
  },
  {
   "cell_type": "markdown",
   "metadata": {},
   "source": [
    "## Máscara para facilitar o gráfico"
   ]
  },
  {
   "cell_type": "code",
   "execution_count": 73,
   "metadata": {},
   "outputs": [],
   "source": [
    "plotceleba = celeba.corr()\n",
    "mask = np.zeros_like(plotceleba, dtype=np.bool)\n",
    "mask[np.triu_indices_from(mask)] = True"
   ]
  },
  {
   "cell_type": "markdown",
   "metadata": {},
   "source": [
    "## Gerando a paleta a ser usada"
   ]
  },
  {
   "cell_type": "code",
   "execution_count": 74,
   "metadata": {},
   "outputs": [
    {
     "data": {
      "image/png": "[encoded data removed]",
      "text/plain": [
       "<Figure size 2520x72 with 1 Axes>"
      ]
     },
     "metadata": {
      "needs_background": "light"
     },
     "output_type": "display_data"
    }
   ],
   "source": [
    "#sep e n são múltiplos complementares do intervalo 10-255 para a graduação de cores ser mais coerente\n",
    "palette = sns.diverging_palette(10, 255, sep=7, n=35)\n",
    "sns.palplot(palette)"
   ]
  },
  {
   "cell_type": "code",
   "execution_count": 75,
   "metadata": {},
   "outputs": [
    {
     "data": {
      "image/png": "[encoded data removed]",
      "text/plain": [
       "<Figure size 2000x2000 with 2 Axes>"
      ]
     },
     "metadata": {
      "needs_background": "light"
     },
     "output_type": "display_data"
    }
   ],
   "source": [
    "plt.figure(figsize=(20,20), dpi=100)\n",
    "sns.heatmap(celeba.corr(), vmin=-1, vmax=1, linewidths=0.25, square=True, cmap=palette, mask=mask);"
   ]
  },
  {
   "cell_type": "markdown",
   "metadata": {},
   "source": [
    "É um belo gráfico para observarmos de forma geral como as correlações acontecem, mas não é fácil focar especificamente nas mais fortes."
   ]
  },
  {
   "cell_type": "markdown",
   "metadata": {},
   "source": [
    "# Focando em correlações mais fortes"
   ]
  },
  {
   "cell_type": "markdown",
   "metadata": {},
   "source": [
    "## Gerando uma paleta mais focada"
   ]
  },
  {
   "cell_type": "code",
   "execution_count": 76,
   "metadata": {},
   "outputs": [
    {
     "data": {
      "image/png": "[encoded data removed]",
      "text/plain": [
       "<Figure size 504x72 with 1 Axes>"
      ]
     },
     "metadata": {
      "needs_background": "light"
     },
     "output_type": "display_data"
    }
   ],
   "source": [
    "#sep e n são múltiplos complementares do intervalo 10-255 para a graduação de cores ser mais coerente\n",
    "palette = sns.diverging_palette(10, 255, sep=35, n=7)\n",
    "sns.palplot(palette)"
   ]
  },
  {
   "cell_type": "markdown",
   "metadata": {},
   "source": [
    "## Visualizando correlações acima de 50%"
   ]
  },
  {
   "cell_type": "code",
   "execution_count": 77,
   "metadata": {},
   "outputs": [],
   "source": [
    "plotceleba = celeba.corr()\n",
    "plotceleba[np.abs(plotceleba) < 0.5] = 0"
   ]
  },
  {
   "cell_type": "code",
   "execution_count": 78,
   "metadata": {},
   "outputs": [
    {
     "data": {
      "image/png": "[encoded data removed]",
      "text/plain": [
       "<Figure size 720x720 with 1 Axes>"
      ]
     },
     "metadata": {
      "needs_background": "light"
     },
     "output_type": "display_data"
    }
   ],
   "source": [
    "plt.figure(figsize=(10,10))\n",
    "sns.heatmap(plotceleba.corr(), vmin=-1, vmax=1, linewidths=0.25, square=True, cmap=palette, mask=mask, cbar=False);"
   ]
  },
  {
   "cell_type": "markdown",
   "metadata": {},
   "source": [
    "Agora fica mais fácil visualizar quais variáveis estão razoavelmente correlacionadas umas com as outras. Já analisamos algumas delas anteriormente:\n",
    "- Gênero e uso de maquiagem\n",
    "- Uso de batom e uso de maquiagem\n",
    "- Uso de cavanhaque e uso de costeleta\n",
    "\n",
    "Mas também podemos observar algumas novas, menos dedutíveis a princípio:\n",
    "- Maçã do rosto e boca levemente aberta\n",
    "- Maçã do rosto e sorriso"
   ]
  },
  {
   "cell_type": "markdown",
   "metadata": {},
   "source": [
    "## Visualizando correlações acima de 75%"
   ]
  },
  {
   "cell_type": "code",
   "execution_count": 79,
   "metadata": {},
   "outputs": [],
   "source": [
    "plotceleba = celeba.corr()\n",
    "plotceleba[np.abs(plotceleba) < 0.75] = 0"
   ]
  },
  {
   "cell_type": "code",
   "execution_count": 80,
   "metadata": {},
   "outputs": [
    {
     "data": {
      "image/png": "[encoded data removed]",
      "text/plain": [
       "<Figure size 720x720 with 1 Axes>"
      ]
     },
     "metadata": {
      "needs_background": "light"
     },
     "output_type": "display_data"
    }
   ],
   "source": [
    "plt.figure(figsize=(10,10))\n",
    "sns.heatmap(plotceleba.corr(), vmin=-1, vmax=1, linewidths=0.25, square=True, cmap=palette, mask=mask, cbar=False);"
   ]
  },
  {
   "cell_type": "markdown",
   "metadata": {},
   "source": [
    "Aqui fica explícito quais variáveis são altamente correlacionadas. Especificamente:\n",
    "- Gênero e uso de maquiagem\n",
    "- Gênero e uso de batom\n",
    "- Uso de batom e uso de maquiagem\n",
    "\n",
    "Bastante autoexplicativo: como o uso de batom e o uso de maquiagem têm a maior correlação de todas as nossas variáveis é dedutível que se gênero tem alta correlação com uma também terá com outra."
   ]
  },
  {
   "cell_type": "markdown",
   "metadata": {},
   "source": [
    "# Checando Correlações de Atratividade"
   ]
  },
  {
   "cell_type": "markdown",
   "metadata": {},
   "source": [
    "## Correlação Absoluta"
   ]
  },
  {
   "cell_type": "code",
   "execution_count": 81,
   "metadata": {},
   "outputs": [
    {
     "data": {
      "text/html": [
       "<div>\n",
       "<style scoped>\n",
       "    .dataframe tbody tr th:only-of-type {\n",
       "        vertical-align: middle;\n",
       "    }\n",
       "\n",
       "    .dataframe tbody tr th {\n",
       "        vertical-align: top;\n",
       "    }\n",
       "\n",
       "    .dataframe thead th {\n",
       "        text-align: right;\n",
       "    }\n",
       "</style>\n",
       "<table border=\"1\" class=\"dataframe\">\n",
       "  <thead>\n",
       "    <tr style=\"text-align: right;\">\n",
       "      <th></th>\n",
       "      <th>Attractive</th>\n",
       "    </tr>\n",
       "  </thead>\n",
       "  <tbody>\n",
       "    <tr>\n",
       "      <td>Attractive</td>\n",
       "      <td>1.00</td>\n",
       "    </tr>\n",
       "    <tr>\n",
       "      <td>Heavy_Makeup</td>\n",
       "      <td>0.48</td>\n",
       "    </tr>\n",
       "    <tr>\n",
       "      <td>Wearing_Lipstick</td>\n",
       "      <td>0.48</td>\n",
       "    </tr>\n",
       "    <tr>\n",
       "      <td>Male</td>\n",
       "      <td>0.39</td>\n",
       "    </tr>\n",
       "    <tr>\n",
       "      <td>Young</td>\n",
       "      <td>0.39</td>\n",
       "    </tr>\n",
       "    <tr>\n",
       "      <td>Big_Nose</td>\n",
       "      <td>0.28</td>\n",
       "    </tr>\n",
       "    <tr>\n",
       "      <td>Arched_Eyebrows</td>\n",
       "      <td>0.25</td>\n",
       "    </tr>\n",
       "    <tr>\n",
       "      <td>Chubby</td>\n",
       "      <td>0.24</td>\n",
       "    </tr>\n",
       "    <tr>\n",
       "      <td>Pointy_Nose</td>\n",
       "      <td>0.23</td>\n",
       "    </tr>\n",
       "    <tr>\n",
       "      <td>Eyeglasses</td>\n",
       "      <td>0.22</td>\n",
       "    </tr>\n",
       "    <tr>\n",
       "      <td>Wavy_Hair</td>\n",
       "      <td>0.21</td>\n",
       "    </tr>\n",
       "    <tr>\n",
       "      <td>Double_Chin</td>\n",
       "      <td>0.21</td>\n",
       "    </tr>\n",
       "    <tr>\n",
       "      <td>Gray_Hair</td>\n",
       "      <td>0.20</td>\n",
       "    </tr>\n",
       "    <tr>\n",
       "      <td>No_Beard</td>\n",
       "      <td>0.20</td>\n",
       "    </tr>\n",
       "    <tr>\n",
       "      <td>Oval_Face</td>\n",
       "      <td>0.19</td>\n",
       "    </tr>\n",
       "    <tr>\n",
       "      <td>Blurry</td>\n",
       "      <td>0.18</td>\n",
       "    </tr>\n",
       "    <tr>\n",
       "      <td>Bags_Under_Eyes</td>\n",
       "      <td>0.18</td>\n",
       "    </tr>\n",
       "    <tr>\n",
       "      <td>Receding_Hairline</td>\n",
       "      <td>0.18</td>\n",
       "    </tr>\n",
       "    <tr>\n",
       "      <td>Rosy_Cheeks</td>\n",
       "      <td>0.16</td>\n",
       "    </tr>\n",
       "    <tr>\n",
       "      <td>Wearing_Necktie</td>\n",
       "      <td>0.16</td>\n",
       "    </tr>\n",
       "    <tr>\n",
       "      <td>Goatee</td>\n",
       "      <td>0.15</td>\n",
       "    </tr>\n",
       "    <tr>\n",
       "      <td>Smiling</td>\n",
       "      <td>0.15</td>\n",
       "    </tr>\n",
       "    <tr>\n",
       "      <td>Bald</td>\n",
       "      <td>0.15</td>\n",
       "    </tr>\n",
       "    <tr>\n",
       "      <td>Blond_Hair</td>\n",
       "      <td>0.15</td>\n",
       "    </tr>\n",
       "    <tr>\n",
       "      <td>High_Cheekbones</td>\n",
       "      <td>0.15</td>\n",
       "    </tr>\n",
       "    <tr>\n",
       "      <td>Mustache</td>\n",
       "      <td>0.14</td>\n",
       "    </tr>\n",
       "    <tr>\n",
       "      <td>Wearing_Hat</td>\n",
       "      <td>0.14</td>\n",
       "    </tr>\n",
       "    <tr>\n",
       "      <td>Brown_Hair</td>\n",
       "      <td>0.13</td>\n",
       "    </tr>\n",
       "    <tr>\n",
       "      <td>Wearing_Earrings</td>\n",
       "      <td>0.12</td>\n",
       "    </tr>\n",
       "    <tr>\n",
       "      <td>Sideburns</td>\n",
       "      <td>0.10</td>\n",
       "    </tr>\n",
       "    <tr>\n",
       "      <td>Pale_Skin</td>\n",
       "      <td>0.09</td>\n",
       "    </tr>\n",
       "    <tr>\n",
       "      <td>Narrow_Eyes</td>\n",
       "      <td>0.07</td>\n",
       "    </tr>\n",
       "    <tr>\n",
       "      <td>Wearing_Necklace</td>\n",
       "      <td>0.07</td>\n",
       "    </tr>\n",
       "    <tr>\n",
       "      <td>Bangs</td>\n",
       "      <td>0.06</td>\n",
       "    </tr>\n",
       "    <tr>\n",
       "      <td>Big_Lips</td>\n",
       "      <td>0.06</td>\n",
       "    </tr>\n",
       "    <tr>\n",
       "      <td>5_o_Clock_Shadow</td>\n",
       "      <td>0.06</td>\n",
       "    </tr>\n",
       "    <tr>\n",
       "      <td>Straight_Hair</td>\n",
       "      <td>0.04</td>\n",
       "    </tr>\n",
       "    <tr>\n",
       "      <td>Bushy_Eyebrows</td>\n",
       "      <td>0.04</td>\n",
       "    </tr>\n",
       "    <tr>\n",
       "      <td>Mouth_Slightly_Open</td>\n",
       "      <td>0.02</td>\n",
       "    </tr>\n",
       "    <tr>\n",
       "      <td>Black_Hair</td>\n",
       "      <td>0.00</td>\n",
       "    </tr>\n",
       "  </tbody>\n",
       "</table>\n",
       "</div>"
      ],
      "text/plain": [
       "                     Attractive\n",
       "Attractive                 1.00\n",
       "Heavy_Makeup               0.48\n",
       "Wearing_Lipstick           0.48\n",
       "Male                       0.39\n",
       "Young                      0.39\n",
       "Big_Nose                   0.28\n",
       "Arched_Eyebrows            0.25\n",
       "Chubby                     0.24\n",
       "Pointy_Nose                0.23\n",
       "Eyeglasses                 0.22\n",
       "Wavy_Hair                  0.21\n",
       "Double_Chin                0.21\n",
       "Gray_Hair                  0.20\n",
       "No_Beard                   0.20\n",
       "Oval_Face                  0.19\n",
       "Blurry                     0.18\n",
       "Bags_Under_Eyes            0.18\n",
       "Receding_Hairline          0.18\n",
       "Rosy_Cheeks                0.16\n",
       "Wearing_Necktie            0.16\n",
       "Goatee                     0.15\n",
       "Smiling                    0.15\n",
       "Bald                       0.15\n",
       "Blond_Hair                 0.15\n",
       "High_Cheekbones            0.15\n",
       "Mustache                   0.14\n",
       "Wearing_Hat                0.14\n",
       "Brown_Hair                 0.13\n",
       "Wearing_Earrings           0.12\n",
       "Sideburns                  0.10\n",
       "Pale_Skin                  0.09\n",
       "Narrow_Eyes                0.07\n",
       "Wearing_Necklace           0.07\n",
       "Bangs                      0.06\n",
       "Big_Lips                   0.06\n",
       "5_o_Clock_Shadow           0.06\n",
       "Straight_Hair              0.04\n",
       "Bushy_Eyebrows             0.04\n",
       "Mouth_Slightly_Open        0.02\n",
       "Black_Hair                 0.00"
      ]
     },
     "execution_count": 81,
     "metadata": {},
     "output_type": "execute_result"
    }
   ],
   "source": [
    "attabscorr = celeba.corr()[['Attractive']].apply(lambda ratio: abs(round(ratio, 2))).sort_values(by='Attractive', ascending=False)\n",
    "attabscorr"
   ]
  },
  {
   "cell_type": "code",
   "execution_count": 82,
   "metadata": {},
   "outputs": [
    {
     "data": {
      "image/png": "[encoded data removed]",
      "text/plain": [
       "<Figure size 1440x720 with 1 Axes>"
      ]
     },
     "metadata": {
      "needs_background": "light"
     },
     "output_type": "display_data"
    }
   ],
   "source": [
    "plt.figure(figsize=(20, 10))\n",
    "sns.heatmap(attabscorr.transpose().iloc[:, 1:], vmin=-1, vmax=1, linewidths=0.25, square=True, cmap=palette, cbar=False)\n",
    "plt.xticks(rotation=70);"
   ]
  },
  {
   "cell_type": "markdown",
   "metadata": {},
   "source": [
    "Tomar inicialmente as correlações absolutas torna a análise mais fácil: é possível observar logo no começo da tabela ou do gráfico quais são os atributos que mais contribuem para que uma foto seja considerada atrativa e filtrá-las."
   ]
  },
  {
   "cell_type": "markdown",
   "metadata": {},
   "source": [
    "## Correlação Comum"
   ]
  },
  {
   "cell_type": "code",
   "execution_count": 83,
   "metadata": {},
   "outputs": [
    {
     "data": {
      "text/html": [
       "<div>\n",
       "<style scoped>\n",
       "    .dataframe tbody tr th:only-of-type {\n",
       "        vertical-align: middle;\n",
       "    }\n",
       "\n",
       "    .dataframe tbody tr th {\n",
       "        vertical-align: top;\n",
       "    }\n",
       "\n",
       "    .dataframe thead th {\n",
       "        text-align: right;\n",
       "    }\n",
       "</style>\n",
       "<table border=\"1\" class=\"dataframe\">\n",
       "  <thead>\n",
       "    <tr style=\"text-align: right;\">\n",
       "      <th></th>\n",
       "      <th>Attractive</th>\n",
       "    </tr>\n",
       "  </thead>\n",
       "  <tbody>\n",
       "    <tr>\n",
       "      <td>Attractive</td>\n",
       "      <td>1.00</td>\n",
       "    </tr>\n",
       "    <tr>\n",
       "      <td>Wearing_Lipstick</td>\n",
       "      <td>0.48</td>\n",
       "    </tr>\n",
       "    <tr>\n",
       "      <td>Heavy_Makeup</td>\n",
       "      <td>0.48</td>\n",
       "    </tr>\n",
       "    <tr>\n",
       "      <td>Young</td>\n",
       "      <td>0.39</td>\n",
       "    </tr>\n",
       "    <tr>\n",
       "      <td>Arched_Eyebrows</td>\n",
       "      <td>0.25</td>\n",
       "    </tr>\n",
       "    <tr>\n",
       "      <td>Pointy_Nose</td>\n",
       "      <td>0.23</td>\n",
       "    </tr>\n",
       "    <tr>\n",
       "      <td>Wavy_Hair</td>\n",
       "      <td>0.21</td>\n",
       "    </tr>\n",
       "    <tr>\n",
       "      <td>No_Beard</td>\n",
       "      <td>0.20</td>\n",
       "    </tr>\n",
       "    <tr>\n",
       "      <td>Oval_Face</td>\n",
       "      <td>0.19</td>\n",
       "    </tr>\n",
       "    <tr>\n",
       "      <td>Rosy_Cheeks</td>\n",
       "      <td>0.16</td>\n",
       "    </tr>\n",
       "    <tr>\n",
       "      <td>Blond_Hair</td>\n",
       "      <td>0.15</td>\n",
       "    </tr>\n",
       "    <tr>\n",
       "      <td>High_Cheekbones</td>\n",
       "      <td>0.15</td>\n",
       "    </tr>\n",
       "    <tr>\n",
       "      <td>Smiling</td>\n",
       "      <td>0.15</td>\n",
       "    </tr>\n",
       "    <tr>\n",
       "      <td>Brown_Hair</td>\n",
       "      <td>0.13</td>\n",
       "    </tr>\n",
       "    <tr>\n",
       "      <td>Wearing_Earrings</td>\n",
       "      <td>0.12</td>\n",
       "    </tr>\n",
       "    <tr>\n",
       "      <td>Pale_Skin</td>\n",
       "      <td>0.09</td>\n",
       "    </tr>\n",
       "    <tr>\n",
       "      <td>Wearing_Necklace</td>\n",
       "      <td>0.07</td>\n",
       "    </tr>\n",
       "    <tr>\n",
       "      <td>Big_Lips</td>\n",
       "      <td>0.06</td>\n",
       "    </tr>\n",
       "    <tr>\n",
       "      <td>Bangs</td>\n",
       "      <td>0.06</td>\n",
       "    </tr>\n",
       "    <tr>\n",
       "      <td>Bushy_Eyebrows</td>\n",
       "      <td>0.04</td>\n",
       "    </tr>\n",
       "    <tr>\n",
       "      <td>Straight_Hair</td>\n",
       "      <td>0.04</td>\n",
       "    </tr>\n",
       "    <tr>\n",
       "      <td>Mouth_Slightly_Open</td>\n",
       "      <td>0.02</td>\n",
       "    </tr>\n",
       "    <tr>\n",
       "      <td>Black_Hair</td>\n",
       "      <td>0.00</td>\n",
       "    </tr>\n",
       "    <tr>\n",
       "      <td>5_o_Clock_Shadow</td>\n",
       "      <td>-0.06</td>\n",
       "    </tr>\n",
       "    <tr>\n",
       "      <td>Narrow_Eyes</td>\n",
       "      <td>-0.07</td>\n",
       "    </tr>\n",
       "    <tr>\n",
       "      <td>Sideburns</td>\n",
       "      <td>-0.10</td>\n",
       "    </tr>\n",
       "    <tr>\n",
       "      <td>Wearing_Hat</td>\n",
       "      <td>-0.14</td>\n",
       "    </tr>\n",
       "    <tr>\n",
       "      <td>Mustache</td>\n",
       "      <td>-0.14</td>\n",
       "    </tr>\n",
       "    <tr>\n",
       "      <td>Bald</td>\n",
       "      <td>-0.15</td>\n",
       "    </tr>\n",
       "    <tr>\n",
       "      <td>Goatee</td>\n",
       "      <td>-0.15</td>\n",
       "    </tr>\n",
       "    <tr>\n",
       "      <td>Wearing_Necktie</td>\n",
       "      <td>-0.16</td>\n",
       "    </tr>\n",
       "    <tr>\n",
       "      <td>Bags_Under_Eyes</td>\n",
       "      <td>-0.18</td>\n",
       "    </tr>\n",
       "    <tr>\n",
       "      <td>Receding_Hairline</td>\n",
       "      <td>-0.18</td>\n",
       "    </tr>\n",
       "    <tr>\n",
       "      <td>Blurry</td>\n",
       "      <td>-0.18</td>\n",
       "    </tr>\n",
       "    <tr>\n",
       "      <td>Gray_Hair</td>\n",
       "      <td>-0.20</td>\n",
       "    </tr>\n",
       "    <tr>\n",
       "      <td>Double_Chin</td>\n",
       "      <td>-0.21</td>\n",
       "    </tr>\n",
       "    <tr>\n",
       "      <td>Eyeglasses</td>\n",
       "      <td>-0.22</td>\n",
       "    </tr>\n",
       "    <tr>\n",
       "      <td>Chubby</td>\n",
       "      <td>-0.24</td>\n",
       "    </tr>\n",
       "    <tr>\n",
       "      <td>Big_Nose</td>\n",
       "      <td>-0.28</td>\n",
       "    </tr>\n",
       "    <tr>\n",
       "      <td>Male</td>\n",
       "      <td>-0.39</td>\n",
       "    </tr>\n",
       "  </tbody>\n",
       "</table>\n",
       "</div>"
      ],
      "text/plain": [
       "                     Attractive\n",
       "Attractive                 1.00\n",
       "Wearing_Lipstick           0.48\n",
       "Heavy_Makeup               0.48\n",
       "Young                      0.39\n",
       "Arched_Eyebrows            0.25\n",
       "Pointy_Nose                0.23\n",
       "Wavy_Hair                  0.21\n",
       "No_Beard                   0.20\n",
       "Oval_Face                  0.19\n",
       "Rosy_Cheeks                0.16\n",
       "Blond_Hair                 0.15\n",
       "High_Cheekbones            0.15\n",
       "Smiling                    0.15\n",
       "Brown_Hair                 0.13\n",
       "Wearing_Earrings           0.12\n",
       "Pale_Skin                  0.09\n",
       "Wearing_Necklace           0.07\n",
       "Big_Lips                   0.06\n",
       "Bangs                      0.06\n",
       "Bushy_Eyebrows             0.04\n",
       "Straight_Hair              0.04\n",
       "Mouth_Slightly_Open        0.02\n",
       "Black_Hair                 0.00\n",
       "5_o_Clock_Shadow          -0.06\n",
       "Narrow_Eyes               -0.07\n",
       "Sideburns                 -0.10\n",
       "Wearing_Hat               -0.14\n",
       "Mustache                  -0.14\n",
       "Bald                      -0.15\n",
       "Goatee                    -0.15\n",
       "Wearing_Necktie           -0.16\n",
       "Bags_Under_Eyes           -0.18\n",
       "Receding_Hairline         -0.18\n",
       "Blurry                    -0.18\n",
       "Gray_Hair                 -0.20\n",
       "Double_Chin               -0.21\n",
       "Eyeglasses                -0.22\n",
       "Chubby                    -0.24\n",
       "Big_Nose                  -0.28\n",
       "Male                      -0.39"
      ]
     },
     "execution_count": 83,
     "metadata": {},
     "output_type": "execute_result"
    }
   ],
   "source": [
    "attcorr = celeba.corr()[['Attractive']].sort_values(by='Attractive', ascending=False).apply(lambda ratio: round(ratio, 2))\n",
    "attcorr"
   ]
  },
  {
   "cell_type": "code",
   "execution_count": 84,
   "metadata": {},
   "outputs": [
    {
     "data": {
      "image/png": "[encoded data removed]",
      "text/plain": [
       "<Figure size 1440x720 with 1 Axes>"
      ]
     },
     "metadata": {
      "needs_background": "light"
     },
     "output_type": "display_data"
    }
   ],
   "source": [
    "plt.figure(figsize=(20, 10))\n",
    "sns.heatmap(attcorr.transpose().iloc[:, 1:], vmin=-1, vmax=1, linewidths=0.25, square=True, cmap=palette, cbar=False)\n",
    "plt.xticks(rotation=70);"
   ]
  },
  {
   "cell_type": "markdown",
   "metadata": {},
   "source": [
    "Agora temos a correlação comum, bastante distribuída, das variáveis apresentadas. Como anteriormente pudemos analisar o valor absoluto das correlações fica mais fácil agora fazer um recorte."
   ]
  },
  {
   "cell_type": "markdown",
   "metadata": {},
   "source": [
    "### Apenas para variáveis de correlação acima de 25%"
   ]
  },
  {
   "cell_type": "code",
   "execution_count": 85,
   "metadata": {},
   "outputs": [],
   "source": [
    "mask = attabscorr['Attractive'] >= 0.25"
   ]
  },
  {
   "cell_type": "code",
   "execution_count": 86,
   "metadata": {},
   "outputs": [
    {
     "name": "stderr",
     "output_type": "stream",
     "text": [
      "/usr/local/Cellar/ipython/7.7.0/libexec/vendor/lib/python3.7/site-packages/ipykernel_launcher.py:2: UserWarning: Boolean Series key will be reindexed to match DataFrame index.\n",
      "  \n"
     ]
    },
    {
     "data": {
      "text/html": [
       "<div>\n",
       "<style scoped>\n",
       "    .dataframe tbody tr th:only-of-type {\n",
       "        vertical-align: middle;\n",
       "    }\n",
       "\n",
       "    .dataframe tbody tr th {\n",
       "        vertical-align: top;\n",
       "    }\n",
       "\n",
       "    .dataframe thead th {\n",
       "        text-align: right;\n",
       "    }\n",
       "</style>\n",
       "<table border=\"1\" class=\"dataframe\">\n",
       "  <thead>\n",
       "    <tr style=\"text-align: right;\">\n",
       "      <th></th>\n",
       "      <th>Attractive</th>\n",
       "    </tr>\n",
       "  </thead>\n",
       "  <tbody>\n",
       "    <tr>\n",
       "      <td>Attractive</td>\n",
       "      <td>1.00</td>\n",
       "    </tr>\n",
       "    <tr>\n",
       "      <td>Wearing_Lipstick</td>\n",
       "      <td>0.48</td>\n",
       "    </tr>\n",
       "    <tr>\n",
       "      <td>Heavy_Makeup</td>\n",
       "      <td>0.48</td>\n",
       "    </tr>\n",
       "    <tr>\n",
       "      <td>Young</td>\n",
       "      <td>0.39</td>\n",
       "    </tr>\n",
       "    <tr>\n",
       "      <td>Arched_Eyebrows</td>\n",
       "      <td>0.25</td>\n",
       "    </tr>\n",
       "    <tr>\n",
       "      <td>Big_Nose</td>\n",
       "      <td>-0.28</td>\n",
       "    </tr>\n",
       "    <tr>\n",
       "      <td>Male</td>\n",
       "      <td>-0.39</td>\n",
       "    </tr>\n",
       "  </tbody>\n",
       "</table>\n",
       "</div>"
      ],
      "text/plain": [
       "                  Attractive\n",
       "Attractive              1.00\n",
       "Wearing_Lipstick        0.48\n",
       "Heavy_Makeup            0.48\n",
       "Young                   0.39\n",
       "Arched_Eyebrows         0.25\n",
       "Big_Nose               -0.28\n",
       "Male                   -0.39"
      ]
     },
     "execution_count": 86,
     "metadata": {},
     "output_type": "execute_result"
    }
   ],
   "source": [
    "attcorr = celeba.corr()[['Attractive']].sort_values(by='Attractive', ascending=False).apply(lambda ratio: round(ratio, 2))\n",
    "attcorr[mask]"
   ]
  },
  {
   "cell_type": "code",
   "execution_count": 87,
   "metadata": {},
   "outputs": [
    {
     "name": "stderr",
     "output_type": "stream",
     "text": [
      "/usr/local/Cellar/ipython/7.7.0/libexec/vendor/lib/python3.7/site-packages/ipykernel_launcher.py:1: UserWarning: Boolean Series key will be reindexed to match DataFrame index.\n",
      "  \"\"\"Entry point for launching an IPython kernel.\n"
     ]
    },
    {
     "data": {
      "text/plain": [
       "['Wearing_Lipstick',\n",
       " 'Heavy_Makeup',\n",
       " 'Young',\n",
       " 'Arched_Eyebrows',\n",
       " 'Big_Nose',\n",
       " 'Male']"
      ]
     },
     "execution_count": 87,
     "metadata": {},
     "output_type": "execute_result"
    }
   ],
   "source": [
    "att25 = list(attcorr[mask].index)[1:]\n",
    "att25"
   ]
  },
  {
   "cell_type": "code",
   "execution_count": 91,
   "metadata": {},
   "outputs": [
    {
     "name": "stderr",
     "output_type": "stream",
     "text": [
      "/usr/local/Cellar/ipython/7.7.0/libexec/vendor/lib/python3.7/site-packages/ipykernel_launcher.py:2: UserWarning: Boolean Series key will be reindexed to match DataFrame index.\n",
      "  \n"
     ]
    },
    {
     "data": {
      "image/png": "[encoded data removed]",
      "text/plain": [
       "<Figure size 360x360 with 1 Axes>"
      ]
     },
     "metadata": {
      "needs_background": "light"
     },
     "output_type": "display_data"
    }
   ],
   "source": [
    "plt.figure(figsize=(5,5))\n",
    "sns.heatmap(attcorr[mask].iloc[1:, :], vmin=-1, vmax=1, linewidths=0.25, square=True, cmap=palette, cbar=False);"
   ]
  },
  {
   "cell_type": "code",
   "execution_count": 89,
   "metadata": {},
   "outputs": [
    {
     "data": {
      "text/plain": [
       "['Heavy_Makeup', 'Young', 'Arched_Eyebrows', 'Big_Nose']"
      ]
     },
     "execution_count": 89,
     "metadata": {},
     "output_type": "execute_result"
    }
   ],
   "source": [
    "att25.remove('Wearing_Lipstick')\n",
    "att25.remove('Male')\n",
    "att25"
   ]
  },
  {
   "cell_type": "markdown",
   "metadata": {},
   "source": [
    "Aqui é fácil visualizar quais atributos mais impactam na atratividade dos dados:\n",
    "- Uso de batom\n",
    "- Uso de maquiagem\n",
    "- Gênero\n",
    "- Idade\n",
    "- Tamanho do nariz\n",
    "- Arqueamento das sobrancelhas\n",
    "\n",
    "E, mais do que isso, podemos afirmar qual a tendência de cada uma delas:\n",
    "- Usar batom\n",
    "- Usar maquiagem\n",
    "- Ser mulher\n",
    "- Ser jovem\n",
    "- Ter o nariz pequeno\n",
    "- Ter as sobrancelhas arqueadas\n",
    "\n",
    "Sabemos no entanto que destes seis atributos, três são altamente correlacionados. Por este motivo não é razoável usar os três simultaneamente para fazer uma análise.\n",
    "Particularmente a escolha aqui é abandonar batom e gênero. Com isso, podemos gerar uma nova lista de atributos impactantes e independentes:\n",
    "- Uso de maquiagem\n",
    "- Idade\n",
    "- Tamanho do nariz\n",
    "- Arqueamento das sobrancelhas"
   ]
  },
  {
   "cell_type": "markdown",
   "metadata": {},
   "source": [
    "### Apenas para variáveis de correlação acima de 37.5%"
   ]
  },
  {
   "cell_type": "code",
   "execution_count": 92,
   "metadata": {},
   "outputs": [],
   "source": [
    "mask = attabscorr['Attractive'] >= 0.375"
   ]
  },
  {
   "cell_type": "code",
   "execution_count": 93,
   "metadata": {},
   "outputs": [
    {
     "name": "stderr",
     "output_type": "stream",
     "text": [
      "/usr/local/Cellar/ipython/7.7.0/libexec/vendor/lib/python3.7/site-packages/ipykernel_launcher.py:2: UserWarning: Boolean Series key will be reindexed to match DataFrame index.\n",
      "  \n"
     ]
    },
    {
     "data": {
      "text/html": [
       "<div>\n",
       "<style scoped>\n",
       "    .dataframe tbody tr th:only-of-type {\n",
       "        vertical-align: middle;\n",
       "    }\n",
       "\n",
       "    .dataframe tbody tr th {\n",
       "        vertical-align: top;\n",
       "    }\n",
       "\n",
       "    .dataframe thead th {\n",
       "        text-align: right;\n",
       "    }\n",
       "</style>\n",
       "<table border=\"1\" class=\"dataframe\">\n",
       "  <thead>\n",
       "    <tr style=\"text-align: right;\">\n",
       "      <th></th>\n",
       "      <th>Attractive</th>\n",
       "    </tr>\n",
       "  </thead>\n",
       "  <tbody>\n",
       "    <tr>\n",
       "      <td>Attractive</td>\n",
       "      <td>1.00</td>\n",
       "    </tr>\n",
       "    <tr>\n",
       "      <td>Wearing_Lipstick</td>\n",
       "      <td>0.48</td>\n",
       "    </tr>\n",
       "    <tr>\n",
       "      <td>Heavy_Makeup</td>\n",
       "      <td>0.48</td>\n",
       "    </tr>\n",
       "    <tr>\n",
       "      <td>Young</td>\n",
       "      <td>0.39</td>\n",
       "    </tr>\n",
       "    <tr>\n",
       "      <td>Male</td>\n",
       "      <td>-0.39</td>\n",
       "    </tr>\n",
       "  </tbody>\n",
       "</table>\n",
       "</div>"
      ],
      "text/plain": [
       "                  Attractive\n",
       "Attractive              1.00\n",
       "Wearing_Lipstick        0.48\n",
       "Heavy_Makeup            0.48\n",
       "Young                   0.39\n",
       "Male                   -0.39"
      ]
     },
     "execution_count": 93,
     "metadata": {},
     "output_type": "execute_result"
    }
   ],
   "source": [
    "attcorr = celeba.corr()[['Attractive']].sort_values(by='Attractive', ascending=False).apply(lambda ratio: round(ratio, 2))\n",
    "attcorr[mask]"
   ]
  },
  {
   "cell_type": "code",
   "execution_count": 94,
   "metadata": {},
   "outputs": [
    {
     "name": "stderr",
     "output_type": "stream",
     "text": [
      "/usr/local/Cellar/ipython/7.7.0/libexec/vendor/lib/python3.7/site-packages/ipykernel_launcher.py:1: UserWarning: Boolean Series key will be reindexed to match DataFrame index.\n",
      "  \"\"\"Entry point for launching an IPython kernel.\n"
     ]
    },
    {
     "data": {
      "text/plain": [
       "['Wearing_Lipstick', 'Heavy_Makeup', 'Young', 'Male']"
      ]
     },
     "execution_count": 94,
     "metadata": {},
     "output_type": "execute_result"
    }
   ],
   "source": [
    "att375 = list(attcorr[mask].index)[1:]\n",
    "att375"
   ]
  },
  {
   "cell_type": "code",
   "execution_count": 95,
   "metadata": {},
   "outputs": [
    {
     "name": "stderr",
     "output_type": "stream",
     "text": [
      "/usr/local/Cellar/ipython/7.7.0/libexec/vendor/lib/python3.7/site-packages/ipykernel_launcher.py:2: UserWarning: Boolean Series key will be reindexed to match DataFrame index.\n",
      "  \n"
     ]
    },
    {
     "data": {
      "image/png": "[encoded data removed]",
      "text/plain": [
       "<Figure size 360x360 with 1 Axes>"
      ]
     },
     "metadata": {
      "needs_background": "light"
     },
     "output_type": "display_data"
    }
   ],
   "source": [
    "plt.figure(figsize=(5,5))\n",
    "sns.heatmap(attcorr[mask].iloc[1:, :], vmin=-1, vmax=1, linewidths=0.25, square=True, cmap=palette, cbar=False);"
   ]
  },
  {
   "cell_type": "code",
   "execution_count": 96,
   "metadata": {},
   "outputs": [
    {
     "data": {
      "text/plain": [
       "['Heavy_Makeup', 'Young']"
      ]
     },
     "execution_count": 96,
     "metadata": {},
     "output_type": "execute_result"
    }
   ],
   "source": [
    "att375.remove('Wearing_Lipstick')\n",
    "att375.remove('Male')\n",
    "att375"
   ]
  },
  {
   "cell_type": "markdown",
   "metadata": {},
   "source": [
    "É possível ser mais abrangente do que no caso anterior filtrando de forma menos robusta os atributos. São eles (já eliminando as variáveis altamente correlacionadas):\n",
    "- Uso de maquiagem\n",
    "- Idade"
   ]
  },
  {
   "cell_type": "markdown",
   "metadata": {},
   "source": [
    "# Analisando"
   ]
  },
  {
   "cell_type": "markdown",
   "metadata": {},
   "source": [
    "## De acordo com a correlação acima de 37.5%"
   ]
  },
  {
   "cell_type": "code",
   "execution_count": 97,
   "metadata": {},
   "outputs": [
    {
     "data": {
      "text/plain": [
       "['Heavy_Makeup', 'Young', 'Arched_Eyebrows', 'Big_Nose']"
      ]
     },
     "execution_count": 97,
     "metadata": {},
     "output_type": "execute_result"
    }
   ],
   "source": [
    "att25"
   ]
  },
  {
   "cell_type": "code",
   "execution_count": 98,
   "metadata": {},
   "outputs": [],
   "source": [
    "maskA = celeba[att25[0]] == 1\n",
    "maskB = celeba[att25[1]] == 1\n",
    "maskC = celeba[att25[2]] == 1\n",
    "maskD = celeba[att25[3]] == -1\n",
    "maskall = maskA&maskB&maskC&maskD\n",
    "maskany = maskA|maskB|maskC|maskD"
   ]
  },
  {
   "cell_type": "code",
   "execution_count": 99,
   "metadata": {},
   "outputs": [],
   "source": [
    "maskZ = celeba['Attractive'] == 1"
   ]
  },
  {
   "cell_type": "code",
   "execution_count": 100,
   "metadata": {},
   "outputs": [
    {
     "data": {
      "text/plain": [
       "32208"
      ]
     },
     "execution_count": 100,
     "metadata": {},
     "output_type": "execute_result"
    }
   ],
   "source": [
    "len(celeba[maskall])"
   ]
  },
  {
   "cell_type": "code",
   "execution_count": 101,
   "metadata": {},
   "outputs": [
    {
     "data": {
      "text/plain": [
       "170391"
      ]
     },
     "execution_count": 101,
     "metadata": {},
     "output_type": "execute_result"
    }
   ],
   "source": [
    "len(celeba[~maskall])"
   ]
  },
  {
   "cell_type": "code",
   "execution_count": 102,
   "metadata": {
    "scrolled": true
   },
   "outputs": [
    {
     "data": {
      "text/plain": [
       "28043"
      ]
     },
     "execution_count": 102,
     "metadata": {},
     "output_type": "execute_result"
    }
   ],
   "source": [
    "len(celeba[maskall&maskZ])"
   ]
  },
  {
   "cell_type": "code",
   "execution_count": 103,
   "metadata": {},
   "outputs": [
    {
     "data": {
      "text/plain": [
       "4165"
      ]
     },
     "execution_count": 103,
     "metadata": {},
     "output_type": "execute_result"
    }
   ],
   "source": [
    "len(celeba[maskall&~maskZ])"
   ]
  },
  {
   "cell_type": "code",
   "execution_count": 104,
   "metadata": {},
   "outputs": [
    {
     "data": {
      "text/plain": [
       "75790"
      ]
     },
     "execution_count": 104,
     "metadata": {},
     "output_type": "execute_result"
    }
   ],
   "source": [
    "len(celeba[~maskall&maskZ])"
   ]
  },
  {
   "cell_type": "code",
   "execution_count": 105,
   "metadata": {
    "scrolled": true
   },
   "outputs": [
    {
     "data": {
      "text/plain": [
       "94601"
      ]
     },
     "execution_count": 105,
     "metadata": {},
     "output_type": "execute_result"
    }
   ],
   "source": [
    "len(celeba[~maskall&~maskZ])"
   ]
  },
  {
   "cell_type": "code",
   "execution_count": 106,
   "metadata": {
    "scrolled": true
   },
   "outputs": [
    {
     "data": {
      "text/plain": [
       "184448"
      ]
     },
     "execution_count": 106,
     "metadata": {},
     "output_type": "execute_result"
    }
   ],
   "source": [
    "len(celeba[maskany])"
   ]
  },
  {
   "cell_type": "code",
   "execution_count": 107,
   "metadata": {},
   "outputs": [
    {
     "data": {
      "text/plain": [
       "102936"
      ]
     },
     "execution_count": 107,
     "metadata": {},
     "output_type": "execute_result"
    }
   ],
   "source": [
    "len(celeba[maskany&maskZ])"
   ]
  },
  {
   "cell_type": "code",
   "execution_count": 108,
   "metadata": {},
   "outputs": [
    {
     "data": {
      "text/plain": [
       "81512"
      ]
     },
     "execution_count": 108,
     "metadata": {},
     "output_type": "execute_result"
    }
   ],
   "source": [
    "len(celeba[maskany&~maskZ])"
   ]
  },
  {
   "cell_type": "code",
   "execution_count": 109,
   "metadata": {},
   "outputs": [],
   "source": [
    "celeba[maskall].to_csv('celeba-corr-above-375-all.csv')\n",
    "celeba[maskall&maskZ].to_csv('celeba-corr-above-375-all-attractive.csv')\n",
    "celeba[maskall&~maskZ].to_csv('celeba-corr-above-375-all-noatractive.csv')\n",
    "celeba[~maskall].to_csv('celeba-corr-above-375-none.csv')\n",
    "celeba[~maskall&maskZ].to_csv('celeba-corr-above-375-none-attractive.csv')\n",
    "celeba[~maskall&~maskZ].to_csv('celeba-corr-above-375-none-noattractive.csv')\n",
    "celeba[maskany].to_csv('celeba-corr-above-375-leastone.csv')\n",
    "celeba[maskany&maskZ].to_csv('celeba-corr-above-375-leastone-attractive.csv')\n",
    "celeba[maskany&~maskZ].to_csv('celeba-corr-above-375-leastone-noattractive.csv')"
   ]
  },
  {
   "cell_type": "markdown",
   "metadata": {},
   "source": [
    "Existem em nosso dataset 32.208 pessoas (grupo A1) que têm todos os atributos avaliados e 170.391 que não têm nenhuma (grupo B1).\n",
    "\n",
    "No grupo A1, temos:\n",
    "- 28.043 pessoas consideradas atrativas\n",
    "- 4.165 pessoas consideradas não atrativas\n",
    "\n",
    "No grupo B1, temos:\n",
    "- 75.790 pessoas consideradas atrativas\n",
    "- 94.601 pessoas consideradas não atrativas\n",
    "\n",
    "\n",
    "Também podemos fazer a análise das 184.448 pessoas (grupo C1) que tenham pelo menos uma das características.\n",
    "- 102.936 pessoas consideradas atrativas\n",
    "- 81.512 pessoas consideradas não atrativas"
   ]
  },
  {
   "cell_type": "markdown",
   "metadata": {},
   "source": [
    "## De acordo com a correlação acima de 25%"
   ]
  },
  {
   "cell_type": "code",
   "execution_count": 110,
   "metadata": {},
   "outputs": [
    {
     "data": {
      "text/plain": [
       "['Heavy_Makeup', 'Young']"
      ]
     },
     "execution_count": 110,
     "metadata": {},
     "output_type": "execute_result"
    }
   ],
   "source": [
    "att375"
   ]
  },
  {
   "cell_type": "code",
   "execution_count": 111,
   "metadata": {},
   "outputs": [],
   "source": [
    "maskA = celeba[att25[0]] == 1\n",
    "maskB = celeba[att25[1]] == 1\n",
    "maskall = maskA&maskB\n",
    "maskany = maskA|maskB"
   ]
  },
  {
   "cell_type": "code",
   "execution_count": 112,
   "metadata": {},
   "outputs": [],
   "source": [
    "maskZ = celeba['Attractive'] == 1"
   ]
  },
  {
   "cell_type": "code",
   "execution_count": 113,
   "metadata": {},
   "outputs": [
    {
     "data": {
      "text/plain": [
       "70699"
      ]
     },
     "execution_count": 113,
     "metadata": {},
     "output_type": "execute_result"
    }
   ],
   "source": [
    "len(celeba[maskall])"
   ]
  },
  {
   "cell_type": "code",
   "execution_count": 114,
   "metadata": {},
   "outputs": [
    {
     "data": {
      "text/plain": [
       "131900"
      ]
     },
     "execution_count": 114,
     "metadata": {},
     "output_type": "execute_result"
    }
   ],
   "source": [
    "len(celeba[~maskall])"
   ]
  },
  {
   "cell_type": "code",
   "execution_count": 115,
   "metadata": {
    "scrolled": true
   },
   "outputs": [
    {
     "data": {
      "text/plain": [
       "60013"
      ]
     },
     "execution_count": 115,
     "metadata": {},
     "output_type": "execute_result"
    }
   ],
   "source": [
    "len(celeba[maskall&maskZ])"
   ]
  },
  {
   "cell_type": "code",
   "execution_count": 116,
   "metadata": {},
   "outputs": [
    {
     "data": {
      "text/plain": [
       "10686"
      ]
     },
     "execution_count": 116,
     "metadata": {},
     "output_type": "execute_result"
    }
   ],
   "source": [
    "len(celeba[maskall&~maskZ])"
   ]
  },
  {
   "cell_type": "code",
   "execution_count": 117,
   "metadata": {},
   "outputs": [
    {
     "data": {
      "text/plain": [
       "43820"
      ]
     },
     "execution_count": 117,
     "metadata": {},
     "output_type": "execute_result"
    }
   ],
   "source": [
    "len(celeba[~maskall&maskZ])"
   ]
  },
  {
   "cell_type": "code",
   "execution_count": 118,
   "metadata": {
    "scrolled": true
   },
   "outputs": [
    {
     "data": {
      "text/plain": [
       "88080"
      ]
     },
     "execution_count": 118,
     "metadata": {},
     "output_type": "execute_result"
    }
   ],
   "source": [
    "len(celeba[~maskall&~maskZ])"
   ]
  },
  {
   "cell_type": "code",
   "execution_count": 119,
   "metadata": {
    "scrolled": true
   },
   "outputs": [
    {
     "data": {
      "text/plain": [
       "164425"
      ]
     },
     "execution_count": 119,
     "metadata": {},
     "output_type": "execute_result"
    }
   ],
   "source": [
    "len(celeba[maskany])"
   ]
  },
  {
   "cell_type": "code",
   "execution_count": 120,
   "metadata": {},
   "outputs": [
    {
     "data": {
      "text/plain": [
       "100452"
      ]
     },
     "execution_count": 120,
     "metadata": {},
     "output_type": "execute_result"
    }
   ],
   "source": [
    "len(celeba[maskany&maskZ])"
   ]
  },
  {
   "cell_type": "code",
   "execution_count": 121,
   "metadata": {},
   "outputs": [
    {
     "data": {
      "text/plain": [
       "63973"
      ]
     },
     "execution_count": 121,
     "metadata": {},
     "output_type": "execute_result"
    }
   ],
   "source": [
    "len(celeba[maskany&~maskZ])"
   ]
  },
  {
   "cell_type": "code",
   "execution_count": 122,
   "metadata": {},
   "outputs": [],
   "source": [
    "celeba[maskall].to_csv('celeba-corr-above-25-all.csv')\n",
    "celeba[maskall&maskZ].to_csv('celeba-corr-above-25-all-attractive.csv')\n",
    "celeba[maskall&~maskZ].to_csv('celeba-corr-above-25-all-noatractive.csv')\n",
    "celeba[~maskall].to_csv('celeba-corr-above-25-none.csv')\n",
    "celeba[~maskall&maskZ].to_csv('celeba-corr-above-25-none-attractive.csv')\n",
    "celeba[~maskall&~maskZ].to_csv('celeba-corr-above-25-none-noattractive.csv')\n",
    "celeba[maskany].to_csv('celeba-corr-above-25-leastone.csv')\n",
    "celeba[maskany&maskZ].to_csv('celeba-corr-above-25-leastone-attractive.csv')\n",
    "celeba[maskany&~maskZ].to_csv('celeba-corr-above-25-leastone-noattractive.csv')"
   ]
  },
  {
   "cell_type": "markdown",
   "metadata": {},
   "source": [
    "No caso mais abrangente, os resultados observados mudam.\n",
    "Agora são 70.699 pessoas (grupo A2) que têm todos os atributos avaliados e 131.900 que não têm nenhuma (grupo B2).\n",
    "\n",
    "No grupo A2, temos:\n",
    "- 60.013 pessoas consideradas atrativas\n",
    "- 10.686 pessoas consideradas não atrativas\n",
    "\n",
    "No grupo B2, temos:\n",
    "- 43.820 pessoas consideradas atrativas\n",
    "- 88.080 pessoas consideradas não atrativas\n",
    "\n",
    "\n",
    "Novamente podemos fazer a análise das 164.425 pessoas (grupo C2) que tenham pelo menos uma das características.\n",
    "- 100.452 pessoas consideradas atrativas\n",
    "- 63.973 pessoas consideradas não atrativas"
   ]
  },
  {
   "cell_type": "markdown",
   "metadata": {},
   "source": [
    "## Conclusões"
   ]
  },
  {
   "cell_type": "markdown",
   "metadata": {},
   "source": [
    "Para os grupos A1 e A2 percebemos que:\n",
    "- A1 < A2\n",
    "- aproximadamente 87% dos indivíduos em A1 são atrativos\n",
    "- aproximadamente 85% dos indivíduos em A2 são atrativos\n",
    "\n",
    "Para os grupos B1 e B2 percebemos que:\n",
    "- B1 > B2\n",
    "- aproximadamente 56% dos indivíduos em B1 não são atrativos\n",
    "- aproximadamente 67% dos indivíduos em B2 não são atrativos"
   ]
  },
  {
   "cell_type": "markdown",
   "metadata": {},
   "source": [
    "O tamanho dos grupos é logicamente compreensível: um maior número de filtros amarrados reduz o tamanho do grupo inclusivo e reduz o tamanho do grupo exclusivo.\n",
    "Para a análise de atratividade em cada grupo, no entanto, a dedução não é tão direta.\n",
    "\n",
    "A quantidade de indivíduos atrativos em A1 é muito próxima da quantidade de indivíduos atrativos em A2.\n",
    "- Hipótese: a interseção de A1 e A2 é grande\n",
    "\n",
    "A quantidade de indivíduos não atrativos em B1 é menor que a quantidade de indivíduos não atrativos em B2.\n",
    "- Hipótese: existe mais interseção entre Grupos A e B1 do que entre Grupos A e B2"
   ]
  },
  {
   "cell_type": "markdown",
   "metadata": {},
   "source": [
    "Para os grupos C1 e C2 percebemos que:\n",
    "- C1 > C2\n",
    "- aproximadamente 56% dos indivíduos em C1 são atrativos\n",
    "- aproximadamente 61% dos indivíduos em C2 são atrativos"
   ]
  },
  {
   "cell_type": "markdown",
   "metadata": {},
   "source": [
    "Uma primeira análise é:\n",
    "- C1 > C2 > A2 > A1\n",
    "- Grupos C > Grupos A\n",
    "\n",
    "Como os filtros para os grupos C não estão amarrados, é mais fácil capturar indivíduos para eles. O grupo C1, por ter mais filtros independentes, consegue capturar um maior número de pessoas.\n",
    "\n",
    "Isso também explica a flutuação (ainda que baixa, cerca de 5%) de indivíduos atrativos em cada grupo. Como C1 tem uma população maior, a pluralidade é maior que em C2. A mesma lógica pode ser usada em cascata pra A1 e A2."
   ]
  },
  {
   "cell_type": "markdown",
   "metadata": {},
   "source": [
    "# Outlier"
   ]
  },
  {
   "cell_type": "markdown",
   "metadata": {},
   "source": [
    "É possível encontrar um indivíduo que tenha todas as características contrárias ao esperado da maioria dos indivíduos atrativos e e que ainda assim seja atrativo?\n",
    "\n",
    "Qual o corte de atributos que permite encontrar um indivíduo atrativo?"
   ]
  },
  {
   "cell_type": "code",
   "execution_count": 123,
   "metadata": {},
   "outputs": [],
   "source": [
    "attcorrinv = celeba.corr()[['Attractive']]\n",
    "attcorrinv.loc['Attractive'] = -1"
   ]
  },
  {
   "cell_type": "code",
   "execution_count": 124,
   "metadata": {},
   "outputs": [],
   "source": [
    "#criando uma cópia do dataset original para deletar colunas conforme a busca for rodando\n",
    "#criando uma série com todas as correlações de atratividade opostas\n",
    "celebaout = celeba.copy()\n",
    "attcorrinvout = attcorrinv.copy().apply(lambda corr: -1*corr/abs(corr)).astype('int64').T"
   ]
  },
  {
   "cell_type": "markdown",
   "metadata": {},
   "source": [
    "## Início da Busca"
   ]
  },
  {
   "cell_type": "code",
   "execution_count": 125,
   "metadata": {},
   "outputs": [
    {
     "data": {
      "text/html": [
       "<div>\n",
       "<style scoped>\n",
       "    .dataframe tbody tr th:only-of-type {\n",
       "        vertical-align: middle;\n",
       "    }\n",
       "\n",
       "    .dataframe tbody tr th {\n",
       "        vertical-align: top;\n",
       "    }\n",
       "\n",
       "    .dataframe thead th {\n",
       "        text-align: right;\n",
       "    }\n",
       "</style>\n",
       "<table border=\"1\" class=\"dataframe\">\n",
       "  <thead>\n",
       "    <tr style=\"text-align: right;\">\n",
       "      <th></th>\n",
       "      <th>5_o_Clock_Shadow</th>\n",
       "      <th>Arched_Eyebrows</th>\n",
       "      <th>Attractive</th>\n",
       "      <th>Bags_Under_Eyes</th>\n",
       "      <th>Bald</th>\n",
       "      <th>Bangs</th>\n",
       "      <th>Big_Lips</th>\n",
       "      <th>Big_Nose</th>\n",
       "      <th>Black_Hair</th>\n",
       "      <th>Blond_Hair</th>\n",
       "      <th>...</th>\n",
       "      <th>Sideburns</th>\n",
       "      <th>Smiling</th>\n",
       "      <th>Straight_Hair</th>\n",
       "      <th>Wavy_Hair</th>\n",
       "      <th>Wearing_Earrings</th>\n",
       "      <th>Wearing_Hat</th>\n",
       "      <th>Wearing_Lipstick</th>\n",
       "      <th>Wearing_Necklace</th>\n",
       "      <th>Wearing_Necktie</th>\n",
       "      <th>Young</th>\n",
       "    </tr>\n",
       "  </thead>\n",
       "  <tbody>\n",
       "    <tr>\n",
       "      <td>Attractive</td>\n",
       "      <td>1</td>\n",
       "      <td>-1</td>\n",
       "      <td>1</td>\n",
       "      <td>1</td>\n",
       "      <td>1</td>\n",
       "      <td>-1</td>\n",
       "      <td>-1</td>\n",
       "      <td>1</td>\n",
       "      <td>-1</td>\n",
       "      <td>-1</td>\n",
       "      <td>...</td>\n",
       "      <td>1</td>\n",
       "      <td>-1</td>\n",
       "      <td>-1</td>\n",
       "      <td>-1</td>\n",
       "      <td>-1</td>\n",
       "      <td>1</td>\n",
       "      <td>-1</td>\n",
       "      <td>-1</td>\n",
       "      <td>1</td>\n",
       "      <td>-1</td>\n",
       "    </tr>\n",
       "  </tbody>\n",
       "</table>\n",
       "<p>1 rows × 40 columns</p>\n",
       "</div>"
      ],
      "text/plain": [
       "            5_o_Clock_Shadow  Arched_Eyebrows  Attractive  Bags_Under_Eyes  \\\n",
       "Attractive                 1               -1           1                1   \n",
       "\n",
       "            Bald  Bangs  Big_Lips  Big_Nose  Black_Hair  Blond_Hair  ...  \\\n",
       "Attractive     1     -1        -1         1          -1          -1  ...   \n",
       "\n",
       "            Sideburns  Smiling  Straight_Hair  Wavy_Hair  Wearing_Earrings  \\\n",
       "Attractive          1       -1             -1         -1                -1   \n",
       "\n",
       "            Wearing_Hat  Wearing_Lipstick  Wearing_Necklace  Wearing_Necktie  \\\n",
       "Attractive            1                -1                -1                1   \n",
       "\n",
       "            Young  \n",
       "Attractive     -1  \n",
       "\n",
       "[1 rows x 40 columns]"
      ]
     },
     "execution_count": 125,
     "metadata": {},
     "output_type": "execute_result"
    }
   ],
   "source": [
    "attcorrinvout"
   ]
  },
  {
   "cell_type": "code",
   "execution_count": 126,
   "metadata": {},
   "outputs": [
    {
     "data": {
      "text/html": [
       "<div>\n",
       "<style scoped>\n",
       "    .dataframe tbody tr th:only-of-type {\n",
       "        vertical-align: middle;\n",
       "    }\n",
       "\n",
       "    .dataframe tbody tr th {\n",
       "        vertical-align: top;\n",
       "    }\n",
       "\n",
       "    .dataframe thead th {\n",
       "        text-align: right;\n",
       "    }\n",
       "</style>\n",
       "<table border=\"1\" class=\"dataframe\">\n",
       "  <thead>\n",
       "    <tr style=\"text-align: right;\">\n",
       "      <th></th>\n",
       "      <th>5_o_Clock_Shadow</th>\n",
       "      <th>Arched_Eyebrows</th>\n",
       "      <th>Attractive</th>\n",
       "      <th>Bags_Under_Eyes</th>\n",
       "      <th>Bald</th>\n",
       "      <th>Bangs</th>\n",
       "      <th>Big_Lips</th>\n",
       "      <th>Big_Nose</th>\n",
       "      <th>Black_Hair</th>\n",
       "      <th>Blond_Hair</th>\n",
       "      <th>...</th>\n",
       "      <th>Sideburns</th>\n",
       "      <th>Smiling</th>\n",
       "      <th>Straight_Hair</th>\n",
       "      <th>Wavy_Hair</th>\n",
       "      <th>Wearing_Earrings</th>\n",
       "      <th>Wearing_Hat</th>\n",
       "      <th>Wearing_Lipstick</th>\n",
       "      <th>Wearing_Necklace</th>\n",
       "      <th>Wearing_Necktie</th>\n",
       "      <th>Young</th>\n",
       "    </tr>\n",
       "    <tr>\n",
       "      <th>image_id</th>\n",
       "      <th></th>\n",
       "      <th></th>\n",
       "      <th></th>\n",
       "      <th></th>\n",
       "      <th></th>\n",
       "      <th></th>\n",
       "      <th></th>\n",
       "      <th></th>\n",
       "      <th></th>\n",
       "      <th></th>\n",
       "      <th></th>\n",
       "      <th></th>\n",
       "      <th></th>\n",
       "      <th></th>\n",
       "      <th></th>\n",
       "      <th></th>\n",
       "      <th></th>\n",
       "      <th></th>\n",
       "      <th></th>\n",
       "      <th></th>\n",
       "      <th></th>\n",
       "    </tr>\n",
       "  </thead>\n",
       "  <tbody>\n",
       "    <tr>\n",
       "      <td>000001</td>\n",
       "      <td>-1</td>\n",
       "      <td>1</td>\n",
       "      <td>1</td>\n",
       "      <td>-1</td>\n",
       "      <td>-1</td>\n",
       "      <td>-1</td>\n",
       "      <td>-1</td>\n",
       "      <td>-1</td>\n",
       "      <td>-1</td>\n",
       "      <td>-1</td>\n",
       "      <td>...</td>\n",
       "      <td>-1</td>\n",
       "      <td>1</td>\n",
       "      <td>1</td>\n",
       "      <td>-1</td>\n",
       "      <td>1</td>\n",
       "      <td>-1</td>\n",
       "      <td>1</td>\n",
       "      <td>-1</td>\n",
       "      <td>-1</td>\n",
       "      <td>1</td>\n",
       "    </tr>\n",
       "    <tr>\n",
       "      <td>000002</td>\n",
       "      <td>-1</td>\n",
       "      <td>-1</td>\n",
       "      <td>-1</td>\n",
       "      <td>1</td>\n",
       "      <td>-1</td>\n",
       "      <td>-1</td>\n",
       "      <td>-1</td>\n",
       "      <td>1</td>\n",
       "      <td>-1</td>\n",
       "      <td>-1</td>\n",
       "      <td>...</td>\n",
       "      <td>-1</td>\n",
       "      <td>1</td>\n",
       "      <td>-1</td>\n",
       "      <td>-1</td>\n",
       "      <td>-1</td>\n",
       "      <td>-1</td>\n",
       "      <td>-1</td>\n",
       "      <td>-1</td>\n",
       "      <td>-1</td>\n",
       "      <td>1</td>\n",
       "    </tr>\n",
       "    <tr>\n",
       "      <td>000003</td>\n",
       "      <td>-1</td>\n",
       "      <td>-1</td>\n",
       "      <td>-1</td>\n",
       "      <td>-1</td>\n",
       "      <td>-1</td>\n",
       "      <td>-1</td>\n",
       "      <td>1</td>\n",
       "      <td>-1</td>\n",
       "      <td>-1</td>\n",
       "      <td>-1</td>\n",
       "      <td>...</td>\n",
       "      <td>-1</td>\n",
       "      <td>-1</td>\n",
       "      <td>-1</td>\n",
       "      <td>1</td>\n",
       "      <td>-1</td>\n",
       "      <td>-1</td>\n",
       "      <td>-1</td>\n",
       "      <td>-1</td>\n",
       "      <td>-1</td>\n",
       "      <td>1</td>\n",
       "    </tr>\n",
       "    <tr>\n",
       "      <td>000004</td>\n",
       "      <td>-1</td>\n",
       "      <td>-1</td>\n",
       "      <td>1</td>\n",
       "      <td>-1</td>\n",
       "      <td>-1</td>\n",
       "      <td>-1</td>\n",
       "      <td>-1</td>\n",
       "      <td>-1</td>\n",
       "      <td>-1</td>\n",
       "      <td>-1</td>\n",
       "      <td>...</td>\n",
       "      <td>-1</td>\n",
       "      <td>-1</td>\n",
       "      <td>1</td>\n",
       "      <td>-1</td>\n",
       "      <td>1</td>\n",
       "      <td>-1</td>\n",
       "      <td>1</td>\n",
       "      <td>1</td>\n",
       "      <td>-1</td>\n",
       "      <td>1</td>\n",
       "    </tr>\n",
       "    <tr>\n",
       "      <td>000005</td>\n",
       "      <td>-1</td>\n",
       "      <td>1</td>\n",
       "      <td>1</td>\n",
       "      <td>-1</td>\n",
       "      <td>-1</td>\n",
       "      <td>-1</td>\n",
       "      <td>1</td>\n",
       "      <td>-1</td>\n",
       "      <td>-1</td>\n",
       "      <td>-1</td>\n",
       "      <td>...</td>\n",
       "      <td>-1</td>\n",
       "      <td>-1</td>\n",
       "      <td>-1</td>\n",
       "      <td>-1</td>\n",
       "      <td>-1</td>\n",
       "      <td>-1</td>\n",
       "      <td>1</td>\n",
       "      <td>-1</td>\n",
       "      <td>-1</td>\n",
       "      <td>1</td>\n",
       "    </tr>\n",
       "    <tr>\n",
       "      <td>...</td>\n",
       "      <td>...</td>\n",
       "      <td>...</td>\n",
       "      <td>...</td>\n",
       "      <td>...</td>\n",
       "      <td>...</td>\n",
       "      <td>...</td>\n",
       "      <td>...</td>\n",
       "      <td>...</td>\n",
       "      <td>...</td>\n",
       "      <td>...</td>\n",
       "      <td>...</td>\n",
       "      <td>...</td>\n",
       "      <td>...</td>\n",
       "      <td>...</td>\n",
       "      <td>...</td>\n",
       "      <td>...</td>\n",
       "      <td>...</td>\n",
       "      <td>...</td>\n",
       "      <td>...</td>\n",
       "      <td>...</td>\n",
       "      <td>...</td>\n",
       "    </tr>\n",
       "    <tr>\n",
       "      <td>202595</td>\n",
       "      <td>-1</td>\n",
       "      <td>-1</td>\n",
       "      <td>1</td>\n",
       "      <td>-1</td>\n",
       "      <td>-1</td>\n",
       "      <td>-1</td>\n",
       "      <td>1</td>\n",
       "      <td>-1</td>\n",
       "      <td>-1</td>\n",
       "      <td>1</td>\n",
       "      <td>...</td>\n",
       "      <td>-1</td>\n",
       "      <td>-1</td>\n",
       "      <td>-1</td>\n",
       "      <td>-1</td>\n",
       "      <td>-1</td>\n",
       "      <td>-1</td>\n",
       "      <td>1</td>\n",
       "      <td>-1</td>\n",
       "      <td>-1</td>\n",
       "      <td>1</td>\n",
       "    </tr>\n",
       "    <tr>\n",
       "      <td>202596</td>\n",
       "      <td>-1</td>\n",
       "      <td>-1</td>\n",
       "      <td>-1</td>\n",
       "      <td>-1</td>\n",
       "      <td>-1</td>\n",
       "      <td>1</td>\n",
       "      <td>1</td>\n",
       "      <td>-1</td>\n",
       "      <td>-1</td>\n",
       "      <td>1</td>\n",
       "      <td>...</td>\n",
       "      <td>-1</td>\n",
       "      <td>1</td>\n",
       "      <td>1</td>\n",
       "      <td>-1</td>\n",
       "      <td>-1</td>\n",
       "      <td>-1</td>\n",
       "      <td>-1</td>\n",
       "      <td>-1</td>\n",
       "      <td>-1</td>\n",
       "      <td>1</td>\n",
       "    </tr>\n",
       "    <tr>\n",
       "      <td>202597</td>\n",
       "      <td>-1</td>\n",
       "      <td>-1</td>\n",
       "      <td>-1</td>\n",
       "      <td>-1</td>\n",
       "      <td>-1</td>\n",
       "      <td>-1</td>\n",
       "      <td>-1</td>\n",
       "      <td>-1</td>\n",
       "      <td>1</td>\n",
       "      <td>-1</td>\n",
       "      <td>...</td>\n",
       "      <td>-1</td>\n",
       "      <td>1</td>\n",
       "      <td>-1</td>\n",
       "      <td>-1</td>\n",
       "      <td>-1</td>\n",
       "      <td>-1</td>\n",
       "      <td>-1</td>\n",
       "      <td>-1</td>\n",
       "      <td>-1</td>\n",
       "      <td>1</td>\n",
       "    </tr>\n",
       "    <tr>\n",
       "      <td>202598</td>\n",
       "      <td>-1</td>\n",
       "      <td>1</td>\n",
       "      <td>1</td>\n",
       "      <td>-1</td>\n",
       "      <td>-1</td>\n",
       "      <td>-1</td>\n",
       "      <td>1</td>\n",
       "      <td>-1</td>\n",
       "      <td>1</td>\n",
       "      <td>-1</td>\n",
       "      <td>...</td>\n",
       "      <td>-1</td>\n",
       "      <td>1</td>\n",
       "      <td>-1</td>\n",
       "      <td>1</td>\n",
       "      <td>1</td>\n",
       "      <td>-1</td>\n",
       "      <td>1</td>\n",
       "      <td>-1</td>\n",
       "      <td>-1</td>\n",
       "      <td>1</td>\n",
       "    </tr>\n",
       "    <tr>\n",
       "      <td>202599</td>\n",
       "      <td>-1</td>\n",
       "      <td>1</td>\n",
       "      <td>1</td>\n",
       "      <td>-1</td>\n",
       "      <td>-1</td>\n",
       "      <td>-1</td>\n",
       "      <td>-1</td>\n",
       "      <td>-1</td>\n",
       "      <td>-1</td>\n",
       "      <td>1</td>\n",
       "      <td>...</td>\n",
       "      <td>-1</td>\n",
       "      <td>-1</td>\n",
       "      <td>-1</td>\n",
       "      <td>1</td>\n",
       "      <td>-1</td>\n",
       "      <td>-1</td>\n",
       "      <td>1</td>\n",
       "      <td>-1</td>\n",
       "      <td>-1</td>\n",
       "      <td>1</td>\n",
       "    </tr>\n",
       "  </tbody>\n",
       "</table>\n",
       "<p>202599 rows × 40 columns</p>\n",
       "</div>"
      ],
      "text/plain": [
       "          5_o_Clock_Shadow  Arched_Eyebrows  Attractive  Bags_Under_Eyes  \\\n",
       "image_id                                                                   \n",
       "000001                  -1                1           1               -1   \n",
       "000002                  -1               -1          -1                1   \n",
       "000003                  -1               -1          -1               -1   \n",
       "000004                  -1               -1           1               -1   \n",
       "000005                  -1                1           1               -1   \n",
       "...                    ...              ...         ...              ...   \n",
       "202595                  -1               -1           1               -1   \n",
       "202596                  -1               -1          -1               -1   \n",
       "202597                  -1               -1          -1               -1   \n",
       "202598                  -1                1           1               -1   \n",
       "202599                  -1                1           1               -1   \n",
       "\n",
       "          Bald  Bangs  Big_Lips  Big_Nose  Black_Hair  Blond_Hair  ...  \\\n",
       "image_id                                                           ...   \n",
       "000001      -1     -1        -1        -1          -1          -1  ...   \n",
       "000002      -1     -1        -1         1          -1          -1  ...   \n",
       "000003      -1     -1         1        -1          -1          -1  ...   \n",
       "000004      -1     -1        -1        -1          -1          -1  ...   \n",
       "000005      -1     -1         1        -1          -1          -1  ...   \n",
       "...        ...    ...       ...       ...         ...         ...  ...   \n",
       "202595      -1     -1         1        -1          -1           1  ...   \n",
       "202596      -1      1         1        -1          -1           1  ...   \n",
       "202597      -1     -1        -1        -1           1          -1  ...   \n",
       "202598      -1     -1         1        -1           1          -1  ...   \n",
       "202599      -1     -1        -1        -1          -1           1  ...   \n",
       "\n",
       "          Sideburns  Smiling  Straight_Hair  Wavy_Hair  Wearing_Earrings  \\\n",
       "image_id                                                                   \n",
       "000001           -1        1              1         -1                 1   \n",
       "000002           -1        1             -1         -1                -1   \n",
       "000003           -1       -1             -1          1                -1   \n",
       "000004           -1       -1              1         -1                 1   \n",
       "000005           -1       -1             -1         -1                -1   \n",
       "...             ...      ...            ...        ...               ...   \n",
       "202595           -1       -1             -1         -1                -1   \n",
       "202596           -1        1              1         -1                -1   \n",
       "202597           -1        1             -1         -1                -1   \n",
       "202598           -1        1             -1          1                 1   \n",
       "202599           -1       -1             -1          1                -1   \n",
       "\n",
       "          Wearing_Hat  Wearing_Lipstick  Wearing_Necklace  Wearing_Necktie  \\\n",
       "image_id                                                                     \n",
       "000001             -1                 1                -1               -1   \n",
       "000002             -1                -1                -1               -1   \n",
       "000003             -1                -1                -1               -1   \n",
       "000004             -1                 1                 1               -1   \n",
       "000005             -1                 1                -1               -1   \n",
       "...               ...               ...               ...              ...   \n",
       "202595             -1                 1                -1               -1   \n",
       "202596             -1                -1                -1               -1   \n",
       "202597             -1                -1                -1               -1   \n",
       "202598             -1                 1                -1               -1   \n",
       "202599             -1                 1                -1               -1   \n",
       "\n",
       "          Young  \n",
       "image_id         \n",
       "000001        1  \n",
       "000002        1  \n",
       "000003        1  \n",
       "000004        1  \n",
       "000005        1  \n",
       "...         ...  \n",
       "202595        1  \n",
       "202596        1  \n",
       "202597        1  \n",
       "202598        1  \n",
       "202599        1  \n",
       "\n",
       "[202599 rows x 40 columns]"
      ]
     },
     "execution_count": 126,
     "metadata": {},
     "output_type": "execute_result"
    }
   ],
   "source": [
    "celebaout"
   ]
  },
  {
   "cell_type": "markdown",
   "metadata": {},
   "source": [
    "Para cado passo ocorre uma checagem de se existe um ou mais indivíduos atrativos e, caso contrário, os atributos de correlação mais baixa saem da busca."
   ]
  },
  {
   "cell_type": "code",
   "execution_count": null,
   "metadata": {},
   "outputs": [],
   "source": [
    "#era possível usar o método '.equals()' mas ele exigia que o índice também fosse igual\n",
    "#por esse motivo achei mais intuitivo separar o índice dos dados para cada indivíduo e fazer comparação por linha\n",
    "\n",
    "def get_outliers():\n",
    "    outliers = []\n",
    "\n",
    "    for index, row in attcorrinvout.iterrows():\n",
    "        for cindex, crow in celebaout.iterrows():\n",
    "            if False not in list(row == crow):\n",
    "                outliers.append(cindex)\n",
    "    return len(outliers)"
   ]
  },
  {
   "cell_type": "code",
   "execution_count": null,
   "metadata": {},
   "outputs": [],
   "source": [
    "#adandono de correlações\n",
    "def corr_drop(percent_value):\n",
    "    for item in attcorrinv[abs(attcorrinv['Attractive']) < percent_value].index:\n",
    "        try:\n",
    "            celebaout.drop(item, axis=1, inplace=True)\n",
    "            attcorrinvout.drop(item, axis=1, inplace=True)\n",
    "            print(item)\n",
    "        except:\n",
    "            print(item)"
   ]
  },
  {
   "cell_type": "code",
   "execution_count": 127,
   "metadata": {},
   "outputs": [
    {
     "data": {
      "text/plain": [
       "0"
      ]
     },
     "execution_count": 127,
     "metadata": {},
     "output_type": "execute_result"
    }
   ],
   "source": [
    "get_outliers()"
   ]
  },
  {
   "cell_type": "code",
   "execution_count": 128,
   "metadata": {},
   "outputs": [
    {
     "name": "stdout",
     "output_type": "stream",
     "text": [
      "Black_Hair\n",
      "Bushy_Eyebrows\n",
      "Mouth_Slightly_Open\n",
      "Straight_Hair\n"
     ]
    }
   ],
   "source": [
    "#abandonando correlações menores que 5%\n",
    "corr_drop(0.05)"
   ]
  },
  {
   "cell_type": "code",
   "execution_count": 129,
   "metadata": {},
   "outputs": [
    {
     "data": {
      "text/html": [
       "<div>\n",
       "<style scoped>\n",
       "    .dataframe tbody tr th:only-of-type {\n",
       "        vertical-align: middle;\n",
       "    }\n",
       "\n",
       "    .dataframe tbody tr th {\n",
       "        vertical-align: top;\n",
       "    }\n",
       "\n",
       "    .dataframe thead th {\n",
       "        text-align: right;\n",
       "    }\n",
       "</style>\n",
       "<table border=\"1\" class=\"dataframe\">\n",
       "  <thead>\n",
       "    <tr style=\"text-align: right;\">\n",
       "      <th></th>\n",
       "      <th>5_o_Clock_Shadow</th>\n",
       "      <th>Arched_Eyebrows</th>\n",
       "      <th>Attractive</th>\n",
       "      <th>Bags_Under_Eyes</th>\n",
       "      <th>Bald</th>\n",
       "      <th>Bangs</th>\n",
       "      <th>Big_Lips</th>\n",
       "      <th>Big_Nose</th>\n",
       "      <th>Blond_Hair</th>\n",
       "      <th>Blurry</th>\n",
       "      <th>...</th>\n",
       "      <th>Rosy_Cheeks</th>\n",
       "      <th>Sideburns</th>\n",
       "      <th>Smiling</th>\n",
       "      <th>Wavy_Hair</th>\n",
       "      <th>Wearing_Earrings</th>\n",
       "      <th>Wearing_Hat</th>\n",
       "      <th>Wearing_Lipstick</th>\n",
       "      <th>Wearing_Necklace</th>\n",
       "      <th>Wearing_Necktie</th>\n",
       "      <th>Young</th>\n",
       "    </tr>\n",
       "  </thead>\n",
       "  <tbody>\n",
       "    <tr>\n",
       "      <td>Attractive</td>\n",
       "      <td>1</td>\n",
       "      <td>-1</td>\n",
       "      <td>1</td>\n",
       "      <td>1</td>\n",
       "      <td>1</td>\n",
       "      <td>-1</td>\n",
       "      <td>-1</td>\n",
       "      <td>1</td>\n",
       "      <td>-1</td>\n",
       "      <td>1</td>\n",
       "      <td>...</td>\n",
       "      <td>-1</td>\n",
       "      <td>1</td>\n",
       "      <td>-1</td>\n",
       "      <td>-1</td>\n",
       "      <td>-1</td>\n",
       "      <td>1</td>\n",
       "      <td>-1</td>\n",
       "      <td>-1</td>\n",
       "      <td>1</td>\n",
       "      <td>-1</td>\n",
       "    </tr>\n",
       "  </tbody>\n",
       "</table>\n",
       "<p>1 rows × 36 columns</p>\n",
       "</div>"
      ],
      "text/plain": [
       "            5_o_Clock_Shadow  Arched_Eyebrows  Attractive  Bags_Under_Eyes  \\\n",
       "Attractive                 1               -1           1                1   \n",
       "\n",
       "            Bald  Bangs  Big_Lips  Big_Nose  Blond_Hair  Blurry  ...  \\\n",
       "Attractive     1     -1        -1         1          -1       1  ...   \n",
       "\n",
       "            Rosy_Cheeks  Sideburns  Smiling  Wavy_Hair  Wearing_Earrings  \\\n",
       "Attractive           -1          1       -1         -1                -1   \n",
       "\n",
       "            Wearing_Hat  Wearing_Lipstick  Wearing_Necklace  Wearing_Necktie  \\\n",
       "Attractive            1                -1                -1                1   \n",
       "\n",
       "            Young  \n",
       "Attractive     -1  \n",
       "\n",
       "[1 rows x 36 columns]"
      ]
     },
     "execution_count": 129,
     "metadata": {},
     "output_type": "execute_result"
    }
   ],
   "source": [
    "attcorrinvout"
   ]
  },
  {
   "cell_type": "code",
   "execution_count": 130,
   "metadata": {},
   "outputs": [
    {
     "data": {
      "text/plain": [
       "0"
      ]
     },
     "execution_count": 130,
     "metadata": {},
     "output_type": "execute_result"
    }
   ],
   "source": [
    "get_outliers()"
   ]
  },
  {
   "cell_type": "code",
   "execution_count": 131,
   "metadata": {},
   "outputs": [
    {
     "name": "stdout",
     "output_type": "stream",
     "text": [
      "5_o_Clock_Shadow\n",
      "Bangs\n",
      "Big_Lips\n",
      "Black_Hair\n",
      "Bushy_Eyebrows\n",
      "Mouth_Slightly_Open\n",
      "Narrow_Eyes\n",
      "Pale_Skin\n",
      "Straight_Hair\n",
      "Wearing_Necklace\n"
     ]
    }
   ],
   "source": [
    "#abandonando correlações menores que 10%\n",
    "corr_drop(0.1)"
   ]
  },
  {
   "cell_type": "code",
   "execution_count": 132,
   "metadata": {},
   "outputs": [
    {
     "data": {
      "text/html": [
       "<div>\n",
       "<style scoped>\n",
       "    .dataframe tbody tr th:only-of-type {\n",
       "        vertical-align: middle;\n",
       "    }\n",
       "\n",
       "    .dataframe tbody tr th {\n",
       "        vertical-align: top;\n",
       "    }\n",
       "\n",
       "    .dataframe thead th {\n",
       "        text-align: right;\n",
       "    }\n",
       "</style>\n",
       "<table border=\"1\" class=\"dataframe\">\n",
       "  <thead>\n",
       "    <tr style=\"text-align: right;\">\n",
       "      <th></th>\n",
       "      <th>Arched_Eyebrows</th>\n",
       "      <th>Attractive</th>\n",
       "      <th>Bags_Under_Eyes</th>\n",
       "      <th>Bald</th>\n",
       "      <th>Big_Nose</th>\n",
       "      <th>Blond_Hair</th>\n",
       "      <th>Blurry</th>\n",
       "      <th>Brown_Hair</th>\n",
       "      <th>Chubby</th>\n",
       "      <th>Double_Chin</th>\n",
       "      <th>...</th>\n",
       "      <th>Receding_Hairline</th>\n",
       "      <th>Rosy_Cheeks</th>\n",
       "      <th>Sideburns</th>\n",
       "      <th>Smiling</th>\n",
       "      <th>Wavy_Hair</th>\n",
       "      <th>Wearing_Earrings</th>\n",
       "      <th>Wearing_Hat</th>\n",
       "      <th>Wearing_Lipstick</th>\n",
       "      <th>Wearing_Necktie</th>\n",
       "      <th>Young</th>\n",
       "    </tr>\n",
       "  </thead>\n",
       "  <tbody>\n",
       "    <tr>\n",
       "      <td>Attractive</td>\n",
       "      <td>-1</td>\n",
       "      <td>1</td>\n",
       "      <td>1</td>\n",
       "      <td>1</td>\n",
       "      <td>1</td>\n",
       "      <td>-1</td>\n",
       "      <td>1</td>\n",
       "      <td>-1</td>\n",
       "      <td>1</td>\n",
       "      <td>1</td>\n",
       "      <td>...</td>\n",
       "      <td>1</td>\n",
       "      <td>-1</td>\n",
       "      <td>1</td>\n",
       "      <td>-1</td>\n",
       "      <td>-1</td>\n",
       "      <td>-1</td>\n",
       "      <td>1</td>\n",
       "      <td>-1</td>\n",
       "      <td>1</td>\n",
       "      <td>-1</td>\n",
       "    </tr>\n",
       "  </tbody>\n",
       "</table>\n",
       "<p>1 rows × 30 columns</p>\n",
       "</div>"
      ],
      "text/plain": [
       "            Arched_Eyebrows  Attractive  Bags_Under_Eyes  Bald  Big_Nose  \\\n",
       "Attractive               -1           1                1     1         1   \n",
       "\n",
       "            Blond_Hair  Blurry  Brown_Hair  Chubby  Double_Chin  ...  \\\n",
       "Attractive          -1       1          -1       1            1  ...   \n",
       "\n",
       "            Receding_Hairline  Rosy_Cheeks  Sideburns  Smiling  Wavy_Hair  \\\n",
       "Attractive                  1           -1          1       -1         -1   \n",
       "\n",
       "            Wearing_Earrings  Wearing_Hat  Wearing_Lipstick  Wearing_Necktie  \\\n",
       "Attractive                -1            1                -1                1   \n",
       "\n",
       "            Young  \n",
       "Attractive     -1  \n",
       "\n",
       "[1 rows x 30 columns]"
      ]
     },
     "execution_count": 132,
     "metadata": {},
     "output_type": "execute_result"
    }
   ],
   "source": [
    "attcorrinvout"
   ]
  },
  {
   "cell_type": "code",
   "execution_count": 133,
   "metadata": {},
   "outputs": [
    {
     "data": {
      "text/plain": [
       "0"
      ]
     },
     "execution_count": 133,
     "metadata": {},
     "output_type": "execute_result"
    }
   ],
   "source": [
    "get_outliers()"
   ]
  },
  {
   "cell_type": "code",
   "execution_count": 134,
   "metadata": {},
   "outputs": [
    {
     "name": "stdout",
     "output_type": "stream",
     "text": [
      "5_o_Clock_Shadow\n",
      "Bald\n",
      "Bangs\n",
      "Big_Lips\n",
      "Black_Hair\n",
      "Brown_Hair\n",
      "Bushy_Eyebrows\n",
      "Goatee\n",
      "High_Cheekbones\n",
      "Mouth_Slightly_Open\n",
      "Mustache\n",
      "Narrow_Eyes\n",
      "Pale_Skin\n",
      "Sideburns\n",
      "Smiling\n",
      "Straight_Hair\n",
      "Wearing_Earrings\n",
      "Wearing_Hat\n",
      "Wearing_Necklace\n"
     ]
    }
   ],
   "source": [
    "#abandonando correlações menores que 15%\n",
    "corr_drop(0.15)"
   ]
  },
  {
   "cell_type": "code",
   "execution_count": 135,
   "metadata": {},
   "outputs": [
    {
     "data": {
      "text/html": [
       "<div>\n",
       "<style scoped>\n",
       "    .dataframe tbody tr th:only-of-type {\n",
       "        vertical-align: middle;\n",
       "    }\n",
       "\n",
       "    .dataframe tbody tr th {\n",
       "        vertical-align: top;\n",
       "    }\n",
       "\n",
       "    .dataframe thead th {\n",
       "        text-align: right;\n",
       "    }\n",
       "</style>\n",
       "<table border=\"1\" class=\"dataframe\">\n",
       "  <thead>\n",
       "    <tr style=\"text-align: right;\">\n",
       "      <th></th>\n",
       "      <th>Arched_Eyebrows</th>\n",
       "      <th>Attractive</th>\n",
       "      <th>Bags_Under_Eyes</th>\n",
       "      <th>Big_Nose</th>\n",
       "      <th>Blond_Hair</th>\n",
       "      <th>Blurry</th>\n",
       "      <th>Chubby</th>\n",
       "      <th>Double_Chin</th>\n",
       "      <th>Eyeglasses</th>\n",
       "      <th>Gray_Hair</th>\n",
       "      <th>...</th>\n",
       "      <th>Male</th>\n",
       "      <th>No_Beard</th>\n",
       "      <th>Oval_Face</th>\n",
       "      <th>Pointy_Nose</th>\n",
       "      <th>Receding_Hairline</th>\n",
       "      <th>Rosy_Cheeks</th>\n",
       "      <th>Wavy_Hair</th>\n",
       "      <th>Wearing_Lipstick</th>\n",
       "      <th>Wearing_Necktie</th>\n",
       "      <th>Young</th>\n",
       "    </tr>\n",
       "  </thead>\n",
       "  <tbody>\n",
       "    <tr>\n",
       "      <td>Attractive</td>\n",
       "      <td>-1</td>\n",
       "      <td>1</td>\n",
       "      <td>1</td>\n",
       "      <td>1</td>\n",
       "      <td>-1</td>\n",
       "      <td>1</td>\n",
       "      <td>1</td>\n",
       "      <td>1</td>\n",
       "      <td>1</td>\n",
       "      <td>1</td>\n",
       "      <td>...</td>\n",
       "      <td>1</td>\n",
       "      <td>-1</td>\n",
       "      <td>-1</td>\n",
       "      <td>-1</td>\n",
       "      <td>1</td>\n",
       "      <td>-1</td>\n",
       "      <td>-1</td>\n",
       "      <td>-1</td>\n",
       "      <td>1</td>\n",
       "      <td>-1</td>\n",
       "    </tr>\n",
       "  </tbody>\n",
       "</table>\n",
       "<p>1 rows × 21 columns</p>\n",
       "</div>"
      ],
      "text/plain": [
       "            Arched_Eyebrows  Attractive  Bags_Under_Eyes  Big_Nose  \\\n",
       "Attractive               -1           1                1         1   \n",
       "\n",
       "            Blond_Hair  Blurry  Chubby  Double_Chin  Eyeglasses  Gray_Hair  \\\n",
       "Attractive          -1       1       1            1           1          1   \n",
       "\n",
       "            ...  Male  No_Beard  Oval_Face  Pointy_Nose  Receding_Hairline  \\\n",
       "Attractive  ...     1        -1         -1           -1                  1   \n",
       "\n",
       "            Rosy_Cheeks  Wavy_Hair  Wearing_Lipstick  Wearing_Necktie  Young  \n",
       "Attractive           -1         -1                -1                1     -1  \n",
       "\n",
       "[1 rows x 21 columns]"
      ]
     },
     "execution_count": 135,
     "metadata": {},
     "output_type": "execute_result"
    }
   ],
   "source": [
    "attcorrinvout"
   ]
  },
  {
   "cell_type": "code",
   "execution_count": 136,
   "metadata": {},
   "outputs": [
    {
     "data": {
      "text/plain": [
       "0"
      ]
     },
     "execution_count": 136,
     "metadata": {},
     "output_type": "execute_result"
    }
   ],
   "source": [
    "get_outliers()"
   ]
  },
  {
   "cell_type": "code",
   "execution_count": 137,
   "metadata": {},
   "outputs": [
    {
     "name": "stdout",
     "output_type": "stream",
     "text": [
      "5_o_Clock_Shadow\n",
      "Bags_Under_Eyes\n",
      "Bald\n",
      "Bangs\n",
      "Big_Lips\n",
      "Black_Hair\n",
      "Blond_Hair\n",
      "Blurry\n",
      "Brown_Hair\n",
      "Bushy_Eyebrows\n",
      "Goatee\n",
      "High_Cheekbones\n",
      "Mouth_Slightly_Open\n",
      "Mustache\n",
      "Narrow_Eyes\n",
      "No_Beard\n",
      "Oval_Face\n",
      "Pale_Skin\n",
      "Receding_Hairline\n",
      "Rosy_Cheeks\n",
      "Sideburns\n",
      "Smiling\n",
      "Straight_Hair\n",
      "Wearing_Earrings\n",
      "Wearing_Hat\n",
      "Wearing_Necklace\n",
      "Wearing_Necktie\n"
     ]
    }
   ],
   "source": [
    "#abandonando correlações menores que 20%\n",
    "corr_drop(0.2)"
   ]
  },
  {
   "cell_type": "code",
   "execution_count": 138,
   "metadata": {},
   "outputs": [
    {
     "data": {
      "text/html": [
       "<div>\n",
       "<style scoped>\n",
       "    .dataframe tbody tr th:only-of-type {\n",
       "        vertical-align: middle;\n",
       "    }\n",
       "\n",
       "    .dataframe tbody tr th {\n",
       "        vertical-align: top;\n",
       "    }\n",
       "\n",
       "    .dataframe thead th {\n",
       "        text-align: right;\n",
       "    }\n",
       "</style>\n",
       "<table border=\"1\" class=\"dataframe\">\n",
       "  <thead>\n",
       "    <tr style=\"text-align: right;\">\n",
       "      <th></th>\n",
       "      <th>Arched_Eyebrows</th>\n",
       "      <th>Attractive</th>\n",
       "      <th>Big_Nose</th>\n",
       "      <th>Chubby</th>\n",
       "      <th>Double_Chin</th>\n",
       "      <th>Eyeglasses</th>\n",
       "      <th>Gray_Hair</th>\n",
       "      <th>Heavy_Makeup</th>\n",
       "      <th>Male</th>\n",
       "      <th>Pointy_Nose</th>\n",
       "      <th>Wavy_Hair</th>\n",
       "      <th>Wearing_Lipstick</th>\n",
       "      <th>Young</th>\n",
       "    </tr>\n",
       "  </thead>\n",
       "  <tbody>\n",
       "    <tr>\n",
       "      <td>Attractive</td>\n",
       "      <td>-1</td>\n",
       "      <td>1</td>\n",
       "      <td>1</td>\n",
       "      <td>1</td>\n",
       "      <td>1</td>\n",
       "      <td>1</td>\n",
       "      <td>1</td>\n",
       "      <td>-1</td>\n",
       "      <td>1</td>\n",
       "      <td>-1</td>\n",
       "      <td>-1</td>\n",
       "      <td>-1</td>\n",
       "      <td>-1</td>\n",
       "    </tr>\n",
       "  </tbody>\n",
       "</table>\n",
       "</div>"
      ],
      "text/plain": [
       "            Arched_Eyebrows  Attractive  Big_Nose  Chubby  Double_Chin  \\\n",
       "Attractive               -1           1         1       1            1   \n",
       "\n",
       "            Eyeglasses  Gray_Hair  Heavy_Makeup  Male  Pointy_Nose  Wavy_Hair  \\\n",
       "Attractive           1          1            -1     1           -1         -1   \n",
       "\n",
       "            Wearing_Lipstick  Young  \n",
       "Attractive                -1     -1  "
      ]
     },
     "execution_count": 138,
     "metadata": {},
     "output_type": "execute_result"
    }
   ],
   "source": [
    "attcorrinvout"
   ]
  },
  {
   "cell_type": "code",
   "execution_count": 139,
   "metadata": {},
   "outputs": [
    {
     "data": {
      "text/plain": [
       "0"
      ]
     },
     "execution_count": 139,
     "metadata": {},
     "output_type": "execute_result"
    }
   ],
   "source": [
    "get_outliers()"
   ]
  },
  {
   "cell_type": "markdown",
   "metadata": {},
   "source": [
    "Sobraram poucos atributos então os intervalos de abandono serão menores agora."
   ]
  },
  {
   "cell_type": "code",
   "execution_count": 140,
   "metadata": {},
   "outputs": [
    {
     "name": "stdout",
     "output_type": "stream",
     "text": [
      "5_o_Clock_Shadow\n",
      "Bags_Under_Eyes\n",
      "Bald\n",
      "Bangs\n",
      "Big_Lips\n",
      "Black_Hair\n",
      "Blond_Hair\n",
      "Blurry\n",
      "Brown_Hair\n",
      "Bushy_Eyebrows\n",
      "Double_Chin\n",
      "Goatee\n",
      "Gray_Hair\n",
      "High_Cheekbones\n",
      "Mouth_Slightly_Open\n",
      "Mustache\n",
      "Narrow_Eyes\n",
      "No_Beard\n",
      "Oval_Face\n",
      "Pale_Skin\n",
      "Receding_Hairline\n",
      "Rosy_Cheeks\n",
      "Sideburns\n",
      "Smiling\n",
      "Straight_Hair\n",
      "Wearing_Earrings\n",
      "Wearing_Hat\n",
      "Wearing_Necklace\n",
      "Wearing_Necktie\n"
     ]
    }
   ],
   "source": [
    "#abandonando correlações menores que 21%\n",
    "corr_drop(0.21)"
   ]
  },
  {
   "cell_type": "code",
   "execution_count": 141,
   "metadata": {},
   "outputs": [
    {
     "data": {
      "text/html": [
       "<div>\n",
       "<style scoped>\n",
       "    .dataframe tbody tr th:only-of-type {\n",
       "        vertical-align: middle;\n",
       "    }\n",
       "\n",
       "    .dataframe tbody tr th {\n",
       "        vertical-align: top;\n",
       "    }\n",
       "\n",
       "    .dataframe thead th {\n",
       "        text-align: right;\n",
       "    }\n",
       "</style>\n",
       "<table border=\"1\" class=\"dataframe\">\n",
       "  <thead>\n",
       "    <tr style=\"text-align: right;\">\n",
       "      <th></th>\n",
       "      <th>Arched_Eyebrows</th>\n",
       "      <th>Attractive</th>\n",
       "      <th>Big_Nose</th>\n",
       "      <th>Chubby</th>\n",
       "      <th>Eyeglasses</th>\n",
       "      <th>Heavy_Makeup</th>\n",
       "      <th>Male</th>\n",
       "      <th>Pointy_Nose</th>\n",
       "      <th>Wavy_Hair</th>\n",
       "      <th>Wearing_Lipstick</th>\n",
       "      <th>Young</th>\n",
       "    </tr>\n",
       "  </thead>\n",
       "  <tbody>\n",
       "    <tr>\n",
       "      <td>Attractive</td>\n",
       "      <td>-1</td>\n",
       "      <td>1</td>\n",
       "      <td>1</td>\n",
       "      <td>1</td>\n",
       "      <td>1</td>\n",
       "      <td>-1</td>\n",
       "      <td>1</td>\n",
       "      <td>-1</td>\n",
       "      <td>-1</td>\n",
       "      <td>-1</td>\n",
       "      <td>-1</td>\n",
       "    </tr>\n",
       "  </tbody>\n",
       "</table>\n",
       "</div>"
      ],
      "text/plain": [
       "            Arched_Eyebrows  Attractive  Big_Nose  Chubby  Eyeglasses  \\\n",
       "Attractive               -1           1         1       1           1   \n",
       "\n",
       "            Heavy_Makeup  Male  Pointy_Nose  Wavy_Hair  Wearing_Lipstick  \\\n",
       "Attractive            -1     1           -1         -1                -1   \n",
       "\n",
       "            Young  \n",
       "Attractive     -1  "
      ]
     },
     "execution_count": 141,
     "metadata": {},
     "output_type": "execute_result"
    }
   ],
   "source": [
    "attcorrinvout"
   ]
  },
  {
   "cell_type": "code",
   "execution_count": 142,
   "metadata": {},
   "outputs": [
    {
     "data": {
      "text/plain": [
       "1"
      ]
     },
     "execution_count": 142,
     "metadata": {},
     "output_type": "execute_result"
    }
   ],
   "source": [
    "get_outliers()"
   ]
  },
  {
   "cell_type": "code",
   "execution_count": 143,
   "metadata": {},
   "outputs": [
    {
     "data": {
      "text/plain": [
       "['070556']"
      ]
     },
     "execution_count": 143,
     "metadata": {},
     "output_type": "execute_result"
    }
   ],
   "source": [
    "outliers"
   ]
  },
  {
   "cell_type": "code",
   "execution_count": 146,
   "metadata": {},
   "outputs": [
    {
     "data": {
      "text/html": [
       "<div>\n",
       "<style scoped>\n",
       "    .dataframe tbody tr th:only-of-type {\n",
       "        vertical-align: middle;\n",
       "    }\n",
       "\n",
       "    .dataframe tbody tr th {\n",
       "        vertical-align: top;\n",
       "    }\n",
       "\n",
       "    .dataframe thead th {\n",
       "        text-align: right;\n",
       "    }\n",
       "</style>\n",
       "<table border=\"1\" class=\"dataframe\">\n",
       "  <thead>\n",
       "    <tr style=\"text-align: right;\">\n",
       "      <th></th>\n",
       "      <th>5_o_Clock_Shadow</th>\n",
       "      <th>Arched_Eyebrows</th>\n",
       "      <th>Attractive</th>\n",
       "      <th>Bags_Under_Eyes</th>\n",
       "      <th>Bald</th>\n",
       "      <th>Bangs</th>\n",
       "      <th>Big_Lips</th>\n",
       "      <th>Big_Nose</th>\n",
       "      <th>Black_Hair</th>\n",
       "      <th>Blond_Hair</th>\n",
       "      <th>...</th>\n",
       "      <th>Sideburns</th>\n",
       "      <th>Smiling</th>\n",
       "      <th>Straight_Hair</th>\n",
       "      <th>Wavy_Hair</th>\n",
       "      <th>Wearing_Earrings</th>\n",
       "      <th>Wearing_Hat</th>\n",
       "      <th>Wearing_Lipstick</th>\n",
       "      <th>Wearing_Necklace</th>\n",
       "      <th>Wearing_Necktie</th>\n",
       "      <th>Young</th>\n",
       "    </tr>\n",
       "  </thead>\n",
       "  <tbody>\n",
       "    <tr>\n",
       "      <td>070556</td>\n",
       "      <td>1</td>\n",
       "      <td>-1</td>\n",
       "      <td>1</td>\n",
       "      <td>-1</td>\n",
       "      <td>-1</td>\n",
       "      <td>-1</td>\n",
       "      <td>-1</td>\n",
       "      <td>1</td>\n",
       "      <td>-1</td>\n",
       "      <td>-1</td>\n",
       "      <td>...</td>\n",
       "      <td>1</td>\n",
       "      <td>-1</td>\n",
       "      <td>-1</td>\n",
       "      <td>-1</td>\n",
       "      <td>-1</td>\n",
       "      <td>-1</td>\n",
       "      <td>-1</td>\n",
       "      <td>-1</td>\n",
       "      <td>-1</td>\n",
       "      <td>-1</td>\n",
       "    </tr>\n",
       "  </tbody>\n",
       "</table>\n",
       "<p>1 rows × 40 columns</p>\n",
       "</div>"
      ],
      "text/plain": [
       "        5_o_Clock_Shadow  Arched_Eyebrows  Attractive  Bags_Under_Eyes  Bald  \\\n",
       "070556                 1               -1           1               -1    -1   \n",
       "\n",
       "        Bangs  Big_Lips  Big_Nose  Black_Hair  Blond_Hair  ...  Sideburns  \\\n",
       "070556     -1        -1         1          -1          -1  ...          1   \n",
       "\n",
       "        Smiling  Straight_Hair  Wavy_Hair  Wearing_Earrings  Wearing_Hat  \\\n",
       "070556       -1             -1         -1                -1           -1   \n",
       "\n",
       "        Wearing_Lipstick  Wearing_Necklace  Wearing_Necktie  Young  \n",
       "070556                -1                -1               -1     -1  \n",
       "\n",
       "[1 rows x 40 columns]"
      ]
     },
     "execution_count": 146,
     "metadata": {},
     "output_type": "execute_result"
    }
   ],
   "source": [
    "celeba.loc['070556'].to_frame().T"
   ]
  },
  {
   "cell_type": "code",
   "execution_count": 147,
   "metadata": {},
   "outputs": [],
   "source": [
    "celeba.loc['070556'].to_frame().T.to_csv('celeba-theoutlier.csv')"
   ]
  },
  {
   "cell_type": "markdown",
   "metadata": {},
   "source": [
    "Foi possível encontrar uma única resposta cujas 11 características principais para um indivíduo ser considerado atrativo fossem opostas ao padrão do dataset.\n",
    "- Sobrancelhas não arqueadas\n",
    "- Nariz grande\n",
    "- Rosto cheio\n",
    "- Usa óculos\n",
    "- Sem maquiagem pesada\n",
    "- Homem\n",
    "- Nariz não pontudo\n",
    "- Cabelo não ondulado\n",
    "- Não usa batom\n",
    "- Não é jovem"
   ]
  },
  {
   "cell_type": "code",
   "execution_count": 789,
   "metadata": {},
   "outputs": [],
   "source": [
    "#end\n",
    "#fica aqui registrado que rodei 789 linhas na primeira iteração do código"
   ]
  }
 ],
 "metadata": {
  "kernelspec": {
   "display_name": "Python 3",
   "language": "python",
   "name": "python3"
  },
  "language_info": {
   "codemirror_mode": {
    "name": "ipython",
    "version": 3
   },
   "file_extension": ".py",
   "mimetype": "text/x-python",
   "name": "python",
   "nbconvert_exporter": "python",
   "pygments_lexer": "ipython3",
   "version": "3.7.4"
  }
 },
 "nbformat": 4,
 "nbformat_minor": 2
}
